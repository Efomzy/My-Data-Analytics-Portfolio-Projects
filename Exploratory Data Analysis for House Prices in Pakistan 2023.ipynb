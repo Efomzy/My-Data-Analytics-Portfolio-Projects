{
 "cells": [
  {
   "cell_type": "markdown",
   "metadata": {},
   "source": [
    "# Exploratory Data Analysis for House Prices in Pakistan 2023\n",
    "\n",
    "\n",
    "This dataset is about Pakistan Houses. The dataset is from Zameen.com website. In this dataset, we have 168446 rows and 20 columns, a large dataset. We will be able to get hands-on experience while performing some data cleaning and visualization tasks in order to understand how real-world problem statement analysis is done. This dataset was gotten from kaggle at https://www.kaggle.com/datasets/howisusmanali/house-prices-2023-dataset?select=House_Price_dataset.csv.\n",
    "\n",
    "### About Dataset\n",
    "\n",
    "The dataset contains the following:\n",
    "\n",
    "- Property id: The unique value of each Property.\n",
    "- Location id: The unique value of each location is based on the subcategory of the city.\n",
    "- Page URL: The URL of the page where the property was published.\n",
    "- Property type: In this section we have six different types:\n",
    "\n",
    "1. House\n",
    "2. FarmHouse\n",
    "3. Upper Portion\n",
    "4. Lower Portion\n",
    "5. Flat\n",
    "6. Room\n",
    "\n",
    "- Price: Price is a dependent feature/parameter in this dataset.\n",
    "- City: In this dataset the total number of cities is five:\n",
    "\n",
    "1. Lahore\n",
    "2. Karachi\n",
    "3. Faisalabad\n",
    "4. Rawalpindi\n",
    "5. Islamabad\n",
    "\n",
    "- Province: Province parameter is about the state of the city\n",
    "- Location: It is about the different kinds of locations in each city.\n",
    "- Lastly, the Latitude and Longitude of the Cities.\n",
    "\n",
    "In this Exploratory Data Analysis, we are trying to do the following tasks;\n",
    "\n",
    "1. Handling Missing Values\n",
    "2. Explore numerical features.\n",
    "3. Explore categorical features.\n",
    "4. Finding relations between features.\n",
    "\n",
    "The following tools and libraries will be used;\n",
    "\n",
    "Python\n",
    "\n",
    "Pandas\n",
    "\n",
    "Numpy\n",
    "\n",
    "Matplotlib\n",
    "\n",
    "Seaborn\n",
    "\n",
    "This project is a part of an amazing course [Data Analysis with Python: Zero to Pandas](zerotopandas.com)."
   ]
  },
  {
   "cell_type": "markdown",
   "metadata": {},
   "source": [
    "## Downloading the Dataset\n",
    "\n",
    "\n",
    "We are downloading the dataset from KAGGLE: https://www.kaggle.com/datasets/howisusmanali/house-prices-2023-dataset?select=House_Price_dataset.csv"
   ]
  },
  {
   "cell_type": "code",
   "execution_count": 1,
   "metadata": {},
   "outputs": [],
   "source": [
    "!pip install jovian opendatasets --upgrade --quiet"
   ]
  },
  {
   "cell_type": "markdown",
   "metadata": {},
   "source": [
    "Let's begin by downloading the data, and listing the files within the dataset."
   ]
  },
  {
   "cell_type": "code",
   "execution_count": 2,
   "metadata": {},
   "outputs": [],
   "source": [
    "dataset_url = 'https://www.kaggle.com/datasets/howisusmanali/house-prices-2023-dataset?select=House_Price_dataset.csv' "
   ]
  },
  {
   "cell_type": "code",
   "execution_count": 3,
   "metadata": {},
   "outputs": [
    {
     "name": "stdout",
     "output_type": "stream",
     "text": [
      "Please provide your Kaggle credentials to download this dataset. Learn more: http://bit.ly/kaggle-creds\n",
      "Your Kaggle username: andrewndudiefomah\n",
      "Your Kaggle Key: ········\n",
      "Downloading house-prices-2023-dataset.zip to ./house-prices-2023-dataset\n"
     ]
    },
    {
     "name": "stderr",
     "output_type": "stream",
     "text": [
      "100%|██████████| 12.4M/12.4M [00:02<00:00, 4.58MB/s]\n"
     ]
    },
    {
     "name": "stdout",
     "output_type": "stream",
     "text": [
      "\n"
     ]
    }
   ],
   "source": [
    "import opendatasets as od\n",
    "od.download(dataset_url)"
   ]
  },
  {
   "cell_type": "markdown",
   "metadata": {},
   "source": [
    "The dataset has been downloaded and extracted."
   ]
  },
  {
   "cell_type": "code",
   "execution_count": 4,
   "metadata": {},
   "outputs": [],
   "source": [
    "data_dir = './house-prices-2023-dataset'"
   ]
  },
  {
   "cell_type": "code",
   "execution_count": 5,
   "metadata": {},
   "outputs": [
    {
     "data": {
      "text/plain": [
       "['Cleaned_data_for_model.csv',\n",
       " 'For_EDA_dataset.csv',\n",
       " 'House_Price_dataset.csv']"
      ]
     },
     "execution_count": 5,
     "metadata": {},
     "output_type": "execute_result"
    }
   ],
   "source": [
    "import os\n",
    "os.listdir(data_dir)"
   ]
  },
  {
   "cell_type": "markdown",
   "metadata": {},
   "source": [
    "It seems like the dataset contains three csv files:\n",
    "\n",
    "1. Cleaned_data_for_model.csv\n",
    "\n",
    "2. For_EDA_dataset.csv\n",
    "\n",
    "3. House_Price_dataset.csv"
   ]
  },
  {
   "cell_type": "code",
   "execution_count": 6,
   "metadata": {},
   "outputs": [],
   "source": [
    "data_filename = './house-prices-2023-dataset/House_Price_dataset.csv'"
   ]
  },
  {
   "cell_type": "markdown",
   "metadata": {},
   "source": [
    "Let us save and upload our work to Jovian before continuing."
   ]
  },
  {
   "cell_type": "code",
   "execution_count": 7,
   "metadata": {},
   "outputs": [],
   "source": [
    "project_name = \"eda-for-house-prices-in-pakistan-2023\""
   ]
  },
  {
   "cell_type": "code",
   "execution_count": 8,
   "metadata": {},
   "outputs": [],
   "source": [
    "!pip install jovian --upgrade -q"
   ]
  },
  {
   "cell_type": "code",
   "execution_count": 9,
   "metadata": {},
   "outputs": [],
   "source": [
    "import jovian"
   ]
  },
  {
   "cell_type": "code",
   "execution_count": 11,
   "metadata": {},
   "outputs": [
    {
     "data": {
      "application/javascript": [
       "window.require && require([\"base/js/namespace\"],function(Jupyter){Jupyter.notebook.save_checkpoint()})"
      ],
      "text/plain": [
       "<IPython.core.display.Javascript object>"
      ]
     },
     "metadata": {},
     "output_type": "display_data"
    },
    {
     "name": "stdout",
     "output_type": "stream",
     "text": [
      "[jovian] Updating notebook \"andrew-efomzy/eda-for-house-prices-in-pakistan-2023\" on https://jovian.com\u001b[0m\n",
      "[jovian] Committed successfully! https://jovian.com/andrew-efomzy/eda-for-house-prices-in-pakistan-2023\u001b[0m\n"
     ]
    },
    {
     "data": {
      "text/plain": [
       "'https://jovian.com/andrew-efomzy/eda-for-house-prices-in-pakistan-2023'"
      ]
     },
     "execution_count": 11,
     "metadata": {},
     "output_type": "execute_result"
    }
   ],
   "source": [
    "jovian.commit(project=project_name)"
   ]
  },
  {
   "cell_type": "markdown",
   "metadata": {},
   "source": [
    "## Data Loading and Preparation\n",
    "\n",
    "\n",
    "Now we will be loading the data frame using Pandas. Then we will explore the number of rows and columns, ranges of values etc. and also hanlde missing, incorrect and invalid data incluidng any additional task such as merging multiple data."
   ]
  },
  {
   "cell_type": "code",
   "execution_count": 12,
   "metadata": {},
   "outputs": [],
   "source": [
    "import pandas as pd\n",
    "import seaborn as sns\n",
    "import matplotlib\n",
    "import matplotlib.pyplot as plt\n",
    "%matplotlib inline\n",
    "\n",
    "sns.set_style('darkgrid')\n",
    "matplotlib.rcParams['font.size'] = 14\n",
    "matplotlib.rcParams['figure.figsize'] = (9, 5)\n",
    "matplotlib.rcParams['figure.facecolor'] = '#00000000'"
   ]
  },
  {
   "cell_type": "code",
   "execution_count": 13,
   "metadata": {},
   "outputs": [],
   "source": [
    "house_df = pd.read_csv(data_filename)"
   ]
  },
  {
   "cell_type": "code",
   "execution_count": 14,
   "metadata": {},
   "outputs": [
    {
     "data": {
      "text/html": [
       "<div>\n",
       "<style scoped>\n",
       "    .dataframe tbody tr th:only-of-type {\n",
       "        vertical-align: middle;\n",
       "    }\n",
       "\n",
       "    .dataframe tbody tr th {\n",
       "        vertical-align: top;\n",
       "    }\n",
       "\n",
       "    .dataframe thead th {\n",
       "        text-align: right;\n",
       "    }\n",
       "</style>\n",
       "<table border=\"1\" class=\"dataframe\">\n",
       "  <thead>\n",
       "    <tr style=\"text-align: right;\">\n",
       "      <th></th>\n",
       "      <th>property_id</th>\n",
       "      <th>location_id</th>\n",
       "      <th>page_url</th>\n",
       "      <th>property_type</th>\n",
       "      <th>price</th>\n",
       "      <th>location</th>\n",
       "      <th>city</th>\n",
       "      <th>province_name</th>\n",
       "      <th>latitude</th>\n",
       "      <th>longitude</th>\n",
       "      <th>baths</th>\n",
       "      <th>area</th>\n",
       "      <th>purpose</th>\n",
       "      <th>bedrooms</th>\n",
       "      <th>date_added</th>\n",
       "      <th>agency</th>\n",
       "      <th>agent</th>\n",
       "      <th>Area Type</th>\n",
       "      <th>Area Size</th>\n",
       "      <th>Area Category</th>\n",
       "    </tr>\n",
       "  </thead>\n",
       "  <tbody>\n",
       "    <tr>\n",
       "      <th>0</th>\n",
       "      <td>237062</td>\n",
       "      <td>3325</td>\n",
       "      <td>https://www.zameen.com/Property/g_10_g_10_2_gr...</td>\n",
       "      <td>Flat</td>\n",
       "      <td>10000000</td>\n",
       "      <td>G-10</td>\n",
       "      <td>Islamabad</td>\n",
       "      <td>Islamabad Capital</td>\n",
       "      <td>33.679890</td>\n",
       "      <td>73.012640</td>\n",
       "      <td>2</td>\n",
       "      <td>4 Marla</td>\n",
       "      <td>For Sale</td>\n",
       "      <td>2</td>\n",
       "      <td>02-04-2019</td>\n",
       "      <td>NaN</td>\n",
       "      <td>NaN</td>\n",
       "      <td>Marla</td>\n",
       "      <td>4.0</td>\n",
       "      <td>0-5 Marla</td>\n",
       "    </tr>\n",
       "    <tr>\n",
       "      <th>1</th>\n",
       "      <td>346905</td>\n",
       "      <td>3236</td>\n",
       "      <td>https://www.zameen.com/Property/e_11_2_service...</td>\n",
       "      <td>Flat</td>\n",
       "      <td>6900000</td>\n",
       "      <td>E-11</td>\n",
       "      <td>Islamabad</td>\n",
       "      <td>Islamabad Capital</td>\n",
       "      <td>33.700993</td>\n",
       "      <td>72.971492</td>\n",
       "      <td>3</td>\n",
       "      <td>5.6 Marla</td>\n",
       "      <td>For Sale</td>\n",
       "      <td>3</td>\n",
       "      <td>05-04-2019</td>\n",
       "      <td>NaN</td>\n",
       "      <td>NaN</td>\n",
       "      <td>Marla</td>\n",
       "      <td>5.6</td>\n",
       "      <td>5-10 Marla</td>\n",
       "    </tr>\n",
       "    <tr>\n",
       "      <th>2</th>\n",
       "      <td>386513</td>\n",
       "      <td>764</td>\n",
       "      <td>https://www.zameen.com/Property/islamabad_g_15...</td>\n",
       "      <td>House</td>\n",
       "      <td>16500000</td>\n",
       "      <td>G-15</td>\n",
       "      <td>Islamabad</td>\n",
       "      <td>Islamabad Capital</td>\n",
       "      <td>33.631486</td>\n",
       "      <td>72.926559</td>\n",
       "      <td>6</td>\n",
       "      <td>8 Marla</td>\n",
       "      <td>For Sale</td>\n",
       "      <td>5</td>\n",
       "      <td>07-17-2019</td>\n",
       "      <td>NaN</td>\n",
       "      <td>NaN</td>\n",
       "      <td>Marla</td>\n",
       "      <td>8.0</td>\n",
       "      <td>5-10 Marla</td>\n",
       "    </tr>\n",
       "    <tr>\n",
       "      <th>3</th>\n",
       "      <td>656161</td>\n",
       "      <td>340</td>\n",
       "      <td>https://www.zameen.com/Property/islamabad_bani...</td>\n",
       "      <td>House</td>\n",
       "      <td>43500000</td>\n",
       "      <td>Bani Gala</td>\n",
       "      <td>Islamabad</td>\n",
       "      <td>Islamabad Capital</td>\n",
       "      <td>33.707573</td>\n",
       "      <td>73.151199</td>\n",
       "      <td>4</td>\n",
       "      <td>2 Kanal</td>\n",
       "      <td>For Sale</td>\n",
       "      <td>4</td>\n",
       "      <td>04-05-2019</td>\n",
       "      <td>NaN</td>\n",
       "      <td>NaN</td>\n",
       "      <td>Kanal</td>\n",
       "      <td>2.0</td>\n",
       "      <td>1-5 Kanal</td>\n",
       "    </tr>\n",
       "    <tr>\n",
       "      <th>4</th>\n",
       "      <td>841645</td>\n",
       "      <td>3226</td>\n",
       "      <td>https://www.zameen.com/Property/dha_valley_dha...</td>\n",
       "      <td>House</td>\n",
       "      <td>7000000</td>\n",
       "      <td>DHA Defence</td>\n",
       "      <td>Islamabad</td>\n",
       "      <td>Islamabad Capital</td>\n",
       "      <td>33.492591</td>\n",
       "      <td>73.301339</td>\n",
       "      <td>3</td>\n",
       "      <td>8 Marla</td>\n",
       "      <td>For Sale</td>\n",
       "      <td>3</td>\n",
       "      <td>07-10-2019</td>\n",
       "      <td>Easy Property</td>\n",
       "      <td>Muhammad Junaid Ceo Muhammad Shahid Director</td>\n",
       "      <td>Marla</td>\n",
       "      <td>8.0</td>\n",
       "      <td>5-10 Marla</td>\n",
       "    </tr>\n",
       "    <tr>\n",
       "      <th>...</th>\n",
       "      <td>...</td>\n",
       "      <td>...</td>\n",
       "      <td>...</td>\n",
       "      <td>...</td>\n",
       "      <td>...</td>\n",
       "      <td>...</td>\n",
       "      <td>...</td>\n",
       "      <td>...</td>\n",
       "      <td>...</td>\n",
       "      <td>...</td>\n",
       "      <td>...</td>\n",
       "      <td>...</td>\n",
       "      <td>...</td>\n",
       "      <td>...</td>\n",
       "      <td>...</td>\n",
       "      <td>...</td>\n",
       "      <td>...</td>\n",
       "      <td>...</td>\n",
       "      <td>...</td>\n",
       "      <td>...</td>\n",
       "    </tr>\n",
       "    <tr>\n",
       "      <th>168441</th>\n",
       "      <td>17355248</td>\n",
       "      <td>6754</td>\n",
       "      <td>https://www.zameen.com/Property/gulshan_e_maym...</td>\n",
       "      <td>House</td>\n",
       "      <td>26500000</td>\n",
       "      <td>Gadap Town</td>\n",
       "      <td>Karachi</td>\n",
       "      <td>Sindh</td>\n",
       "      <td>25.029909</td>\n",
       "      <td>67.137192</td>\n",
       "      <td>0</td>\n",
       "      <td>9.6 Marla</td>\n",
       "      <td>For Sale</td>\n",
       "      <td>6</td>\n",
       "      <td>07-18-2019</td>\n",
       "      <td>Al Shahab Enterprises</td>\n",
       "      <td>Shahmir</td>\n",
       "      <td>Marla</td>\n",
       "      <td>9.6</td>\n",
       "      <td>5-10 Marla</td>\n",
       "    </tr>\n",
       "    <tr>\n",
       "      <th>168442</th>\n",
       "      <td>17355249</td>\n",
       "      <td>680</td>\n",
       "      <td>https://www.zameen.com/Property/gadap_town_gul...</td>\n",
       "      <td>House</td>\n",
       "      <td>12500000</td>\n",
       "      <td>Gadap Town</td>\n",
       "      <td>Karachi</td>\n",
       "      <td>Sindh</td>\n",
       "      <td>25.017951</td>\n",
       "      <td>67.136393</td>\n",
       "      <td>0</td>\n",
       "      <td>8 Marla</td>\n",
       "      <td>For Sale</td>\n",
       "      <td>3</td>\n",
       "      <td>07-18-2019</td>\n",
       "      <td>Al Shahab Enterprises</td>\n",
       "      <td>Shahmir</td>\n",
       "      <td>Marla</td>\n",
       "      <td>8.0</td>\n",
       "      <td>5-10 Marla</td>\n",
       "    </tr>\n",
       "    <tr>\n",
       "      <th>168443</th>\n",
       "      <td>17355250</td>\n",
       "      <td>6757</td>\n",
       "      <td>https://www.zameen.com/Property/gulshan_e_maym...</td>\n",
       "      <td>House</td>\n",
       "      <td>27000000</td>\n",
       "      <td>Gadap Town</td>\n",
       "      <td>Karachi</td>\n",
       "      <td>Sindh</td>\n",
       "      <td>25.015384</td>\n",
       "      <td>67.116330</td>\n",
       "      <td>0</td>\n",
       "      <td>9.6 Marla</td>\n",
       "      <td>For Sale</td>\n",
       "      <td>6</td>\n",
       "      <td>07-18-2019</td>\n",
       "      <td>Al Shahab Enterprises</td>\n",
       "      <td>Shahmir</td>\n",
       "      <td>Marla</td>\n",
       "      <td>9.6</td>\n",
       "      <td>5-10 Marla</td>\n",
       "    </tr>\n",
       "    <tr>\n",
       "      <th>168444</th>\n",
       "      <td>17355251</td>\n",
       "      <td>6752</td>\n",
       "      <td>https://www.zameen.com/Property/gulshan_e_maym...</td>\n",
       "      <td>House</td>\n",
       "      <td>11000000</td>\n",
       "      <td>Gadap Town</td>\n",
       "      <td>Karachi</td>\n",
       "      <td>Sindh</td>\n",
       "      <td>25.013265</td>\n",
       "      <td>67.120818</td>\n",
       "      <td>0</td>\n",
       "      <td>7.8 Marla</td>\n",
       "      <td>For Sale</td>\n",
       "      <td>3</td>\n",
       "      <td>07-18-2019</td>\n",
       "      <td>Al Shahab Enterprises</td>\n",
       "      <td>Shahmir</td>\n",
       "      <td>Marla</td>\n",
       "      <td>7.8</td>\n",
       "      <td>5-10 Marla</td>\n",
       "    </tr>\n",
       "    <tr>\n",
       "      <th>168445</th>\n",
       "      <td>17355287</td>\n",
       "      <td>10045</td>\n",
       "      <td>https://www.zameen.com/Property/bahria_town_ka...</td>\n",
       "      <td>House</td>\n",
       "      <td>9000000</td>\n",
       "      <td>Bahria Town Karachi</td>\n",
       "      <td>Karachi</td>\n",
       "      <td>Sindh</td>\n",
       "      <td>25.113565</td>\n",
       "      <td>67.353811</td>\n",
       "      <td>3</td>\n",
       "      <td>9.4 Marla</td>\n",
       "      <td>For Sale</td>\n",
       "      <td>3</td>\n",
       "      <td>07-18-2019</td>\n",
       "      <td>ZPN Real Estate &amp; Builders</td>\n",
       "      <td>Ali Raza</td>\n",
       "      <td>Marla</td>\n",
       "      <td>9.4</td>\n",
       "      <td>5-10 Marla</td>\n",
       "    </tr>\n",
       "  </tbody>\n",
       "</table>\n",
       "<p>168446 rows × 20 columns</p>\n",
       "</div>"
      ],
      "text/plain": [
       "        property_id  location_id  \\\n",
       "0            237062         3325   \n",
       "1            346905         3236   \n",
       "2            386513          764   \n",
       "3            656161          340   \n",
       "4            841645         3226   \n",
       "...             ...          ...   \n",
       "168441     17355248         6754   \n",
       "168442     17355249          680   \n",
       "168443     17355250         6757   \n",
       "168444     17355251         6752   \n",
       "168445     17355287        10045   \n",
       "\n",
       "                                                 page_url property_type  \\\n",
       "0       https://www.zameen.com/Property/g_10_g_10_2_gr...          Flat   \n",
       "1       https://www.zameen.com/Property/e_11_2_service...          Flat   \n",
       "2       https://www.zameen.com/Property/islamabad_g_15...         House   \n",
       "3       https://www.zameen.com/Property/islamabad_bani...         House   \n",
       "4       https://www.zameen.com/Property/dha_valley_dha...         House   \n",
       "...                                                   ...           ...   \n",
       "168441  https://www.zameen.com/Property/gulshan_e_maym...         House   \n",
       "168442  https://www.zameen.com/Property/gadap_town_gul...         House   \n",
       "168443  https://www.zameen.com/Property/gulshan_e_maym...         House   \n",
       "168444  https://www.zameen.com/Property/gulshan_e_maym...         House   \n",
       "168445  https://www.zameen.com/Property/bahria_town_ka...         House   \n",
       "\n",
       "           price             location       city      province_name  \\\n",
       "0       10000000                 G-10  Islamabad  Islamabad Capital   \n",
       "1        6900000                 E-11  Islamabad  Islamabad Capital   \n",
       "2       16500000                 G-15  Islamabad  Islamabad Capital   \n",
       "3       43500000            Bani Gala  Islamabad  Islamabad Capital   \n",
       "4        7000000          DHA Defence  Islamabad  Islamabad Capital   \n",
       "...          ...                  ...        ...                ...   \n",
       "168441  26500000           Gadap Town    Karachi              Sindh   \n",
       "168442  12500000           Gadap Town    Karachi              Sindh   \n",
       "168443  27000000           Gadap Town    Karachi              Sindh   \n",
       "168444  11000000           Gadap Town    Karachi              Sindh   \n",
       "168445   9000000  Bahria Town Karachi    Karachi              Sindh   \n",
       "\n",
       "         latitude  longitude  baths       area   purpose  bedrooms  \\\n",
       "0       33.679890  73.012640      2    4 Marla  For Sale         2   \n",
       "1       33.700993  72.971492      3  5.6 Marla  For Sale         3   \n",
       "2       33.631486  72.926559      6    8 Marla  For Sale         5   \n",
       "3       33.707573  73.151199      4    2 Kanal  For Sale         4   \n",
       "4       33.492591  73.301339      3    8 Marla  For Sale         3   \n",
       "...           ...        ...    ...        ...       ...       ...   \n",
       "168441  25.029909  67.137192      0  9.6 Marla  For Sale         6   \n",
       "168442  25.017951  67.136393      0    8 Marla  For Sale         3   \n",
       "168443  25.015384  67.116330      0  9.6 Marla  For Sale         6   \n",
       "168444  25.013265  67.120818      0  7.8 Marla  For Sale         3   \n",
       "168445  25.113565  67.353811      3  9.4 Marla  For Sale         3   \n",
       "\n",
       "        date_added                      agency  \\\n",
       "0       02-04-2019                         NaN   \n",
       "1       05-04-2019                         NaN   \n",
       "2       07-17-2019                         NaN   \n",
       "3       04-05-2019                         NaN   \n",
       "4       07-10-2019               Easy Property   \n",
       "...            ...                         ...   \n",
       "168441  07-18-2019       Al Shahab Enterprises   \n",
       "168442  07-18-2019       Al Shahab Enterprises   \n",
       "168443  07-18-2019       Al Shahab Enterprises   \n",
       "168444  07-18-2019       Al Shahab Enterprises   \n",
       "168445  07-18-2019  ZPN Real Estate & Builders   \n",
       "\n",
       "                                               agent Area Type  Area Size  \\\n",
       "0                                                NaN     Marla        4.0   \n",
       "1                                                NaN     Marla        5.6   \n",
       "2                                                NaN     Marla        8.0   \n",
       "3                                                NaN     Kanal        2.0   \n",
       "4       Muhammad Junaid Ceo Muhammad Shahid Director     Marla        8.0   \n",
       "...                                              ...       ...        ...   \n",
       "168441                                       Shahmir     Marla        9.6   \n",
       "168442                                       Shahmir     Marla        8.0   \n",
       "168443                                       Shahmir     Marla        9.6   \n",
       "168444                                       Shahmir     Marla        7.8   \n",
       "168445                                      Ali Raza     Marla        9.4   \n",
       "\n",
       "       Area Category  \n",
       "0          0-5 Marla  \n",
       "1         5-10 Marla  \n",
       "2         5-10 Marla  \n",
       "3          1-5 Kanal  \n",
       "4         5-10 Marla  \n",
       "...              ...  \n",
       "168441    5-10 Marla  \n",
       "168442    5-10 Marla  \n",
       "168443    5-10 Marla  \n",
       "168444    5-10 Marla  \n",
       "168445    5-10 Marla  \n",
       "\n",
       "[168446 rows x 20 columns]"
      ]
     },
     "execution_count": 14,
     "metadata": {},
     "output_type": "execute_result"
    }
   ],
   "source": [
    "house_df"
   ]
  },
  {
   "cell_type": "markdown",
   "metadata": {},
   "source": [
    "The dataset contains about168,000 rows and 20 columns which reflects the price of houses in Pakistan. Some columns seem to irrelevant, as such we will drop some columns, and if possible deal with some missing data.\n",
    "\n",
    "Lets view the list of columns in the data frame"
   ]
  },
  {
   "cell_type": "code",
   "execution_count": 15,
   "metadata": {},
   "outputs": [
    {
     "data": {
      "text/plain": [
       "Index(['property_id', 'location_id', 'page_url', 'property_type', 'price',\n",
       "       'location', 'city', 'province_name', 'latitude', 'longitude', 'baths',\n",
       "       'area', 'purpose', 'bedrooms', 'date_added', 'agency', 'agent',\n",
       "       'Area Type', 'Area Size', 'Area Category'],\n",
       "      dtype='object')"
      ]
     },
     "execution_count": 15,
     "metadata": {},
     "output_type": "execute_result"
    }
   ],
   "source": [
    "house_df.columns"
   ]
  },
  {
   "cell_type": "markdown",
   "metadata": {},
   "source": [
    "# Data Cleaning\n",
    "\n",
    "In this section, we will be doing data cleaning so as to prepare the uploaded data for exploration and visualization. We will remove duplicates as well as drop some columns that are not relevant in our analysis.\n",
    "\n",
    "Now, its time to dive deeper into understanding the data properly by exploring the general statistics, information and shape of the dataset. This information will help us identify the missing data, as well the mean, quartiles and also help us decide whether we want to keep some columns or drop them."
   ]
  },
  {
   "cell_type": "code",
   "execution_count": 16,
   "metadata": {},
   "outputs": [
    {
     "data": {
      "text/plain": [
       "(168446, 20)"
      ]
     },
     "execution_count": 16,
     "metadata": {},
     "output_type": "execute_result"
    }
   ],
   "source": [
    "house_df.shape"
   ]
  },
  {
   "cell_type": "code",
   "execution_count": 17,
   "metadata": {},
   "outputs": [
    {
     "name": "stdout",
     "output_type": "stream",
     "text": [
      "<class 'pandas.core.frame.DataFrame'>\n",
      "RangeIndex: 168446 entries, 0 to 168445\n",
      "Data columns (total 20 columns):\n",
      " #   Column         Non-Null Count   Dtype  \n",
      "---  ------         --------------   -----  \n",
      " 0   property_id    168446 non-null  int64  \n",
      " 1   location_id    168446 non-null  int64  \n",
      " 2   page_url       168446 non-null  object \n",
      " 3   property_type  168446 non-null  object \n",
      " 4   price          168446 non-null  int64  \n",
      " 5   location       168446 non-null  object \n",
      " 6   city           168446 non-null  object \n",
      " 7   province_name  168446 non-null  object \n",
      " 8   latitude       168446 non-null  float64\n",
      " 9   longitude      168446 non-null  float64\n",
      " 10  baths          168446 non-null  int64  \n",
      " 11  area           168446 non-null  object \n",
      " 12  purpose        168446 non-null  object \n",
      " 13  bedrooms       168446 non-null  int64  \n",
      " 14  date_added     168446 non-null  object \n",
      " 15  agency         124375 non-null  object \n",
      " 16  agent          124374 non-null  object \n",
      " 17  Area Type      168446 non-null  object \n",
      " 18  Area Size      168446 non-null  float64\n",
      " 19  Area Category  168446 non-null  object \n",
      "dtypes: float64(3), int64(5), object(12)\n",
      "memory usage: 25.7+ MB\n"
     ]
    }
   ],
   "source": [
    "house_df.info()"
   ]
  },
  {
   "cell_type": "markdown",
   "metadata": {},
   "source": [
    "Most columns have the data type object, either because they contain values of different types or contain empty values (NaN). It appears that some column ('agent', 'agency') contains some empty/missing values since the Non-Null count is lower than the total number of rows (168446). We'll need to deal with empty values and manually adjust the data type for each column on a case-by-case basis.\n",
    "\n",
    "To make our analysis easier, we will convert some columns into other data types while dropping some unimportant columns. "
   ]
  },
  {
   "cell_type": "code",
   "execution_count": 18,
   "metadata": {},
   "outputs": [
    {
     "data": {
      "text/html": [
       "<div>\n",
       "<style scoped>\n",
       "    .dataframe tbody tr th:only-of-type {\n",
       "        vertical-align: middle;\n",
       "    }\n",
       "\n",
       "    .dataframe tbody tr th {\n",
       "        vertical-align: top;\n",
       "    }\n",
       "\n",
       "    .dataframe thead th {\n",
       "        text-align: right;\n",
       "    }\n",
       "</style>\n",
       "<table border=\"1\" class=\"dataframe\">\n",
       "  <thead>\n",
       "    <tr style=\"text-align: right;\">\n",
       "      <th></th>\n",
       "      <th>property_id</th>\n",
       "      <th>location_id</th>\n",
       "      <th>price</th>\n",
       "      <th>latitude</th>\n",
       "      <th>longitude</th>\n",
       "      <th>baths</th>\n",
       "      <th>bedrooms</th>\n",
       "      <th>Area Size</th>\n",
       "    </tr>\n",
       "  </thead>\n",
       "  <tbody>\n",
       "    <tr>\n",
       "      <th>count</th>\n",
       "      <td>1.684460e+05</td>\n",
       "      <td>168446.000000</td>\n",
       "      <td>1.684460e+05</td>\n",
       "      <td>168446.000000</td>\n",
       "      <td>168446.000000</td>\n",
       "      <td>168446.000000</td>\n",
       "      <td>168446.000000</td>\n",
       "      <td>168446.000000</td>\n",
       "    </tr>\n",
       "    <tr>\n",
       "      <th>mean</th>\n",
       "      <td>1.559626e+07</td>\n",
       "      <td>4375.936395</td>\n",
       "      <td>1.776576e+07</td>\n",
       "      <td>29.859519</td>\n",
       "      <td>71.239804</td>\n",
       "      <td>2.874227</td>\n",
       "      <td>3.179422</td>\n",
       "      <td>5.892188</td>\n",
       "    </tr>\n",
       "    <tr>\n",
       "      <th>std</th>\n",
       "      <td>2.251207e+06</td>\n",
       "      <td>3776.561581</td>\n",
       "      <td>3.531003e+07</td>\n",
       "      <td>3.807870</td>\n",
       "      <td>3.133042</td>\n",
       "      <td>2.463400</td>\n",
       "      <td>1.971401</td>\n",
       "      <td>5.778327</td>\n",
       "    </tr>\n",
       "    <tr>\n",
       "      <th>min</th>\n",
       "      <td>8.657500e+04</td>\n",
       "      <td>1.000000</td>\n",
       "      <td>0.000000e+00</td>\n",
       "      <td>11.052446</td>\n",
       "      <td>25.906027</td>\n",
       "      <td>0.000000</td>\n",
       "      <td>0.000000</td>\n",
       "      <td>0.000000</td>\n",
       "    </tr>\n",
       "    <tr>\n",
       "      <th>25%</th>\n",
       "      <td>1.488320e+07</td>\n",
       "      <td>1058.000000</td>\n",
       "      <td>1.750000e+05</td>\n",
       "      <td>24.948536</td>\n",
       "      <td>67.130363</td>\n",
       "      <td>0.000000</td>\n",
       "      <td>2.000000</td>\n",
       "      <td>3.000000</td>\n",
       "    </tr>\n",
       "    <tr>\n",
       "      <th>50%</th>\n",
       "      <td>1.665851e+07</td>\n",
       "      <td>3286.000000</td>\n",
       "      <td>8.500000e+06</td>\n",
       "      <td>31.459784</td>\n",
       "      <td>73.056182</td>\n",
       "      <td>3.000000</td>\n",
       "      <td>3.000000</td>\n",
       "      <td>5.000000</td>\n",
       "    </tr>\n",
       "    <tr>\n",
       "      <th>75%</th>\n",
       "      <td>1.708662e+07</td>\n",
       "      <td>7220.000000</td>\n",
       "      <td>1.950000e+07</td>\n",
       "      <td>33.560887</td>\n",
       "      <td>73.259870</td>\n",
       "      <td>4.000000</td>\n",
       "      <td>4.000000</td>\n",
       "      <td>8.000000</td>\n",
       "    </tr>\n",
       "    <tr>\n",
       "      <th>max</th>\n",
       "      <td>1.735772e+07</td>\n",
       "      <td>14220.000000</td>\n",
       "      <td>2.000000e+09</td>\n",
       "      <td>73.184088</td>\n",
       "      <td>80.161430</td>\n",
       "      <td>403.000000</td>\n",
       "      <td>68.000000</td>\n",
       "      <td>800.000000</td>\n",
       "    </tr>\n",
       "  </tbody>\n",
       "</table>\n",
       "</div>"
      ],
      "text/plain": [
       "        property_id    location_id         price       latitude  \\\n",
       "count  1.684460e+05  168446.000000  1.684460e+05  168446.000000   \n",
       "mean   1.559626e+07    4375.936395  1.776576e+07      29.859519   \n",
       "std    2.251207e+06    3776.561581  3.531003e+07       3.807870   \n",
       "min    8.657500e+04       1.000000  0.000000e+00      11.052446   \n",
       "25%    1.488320e+07    1058.000000  1.750000e+05      24.948536   \n",
       "50%    1.665851e+07    3286.000000  8.500000e+06      31.459784   \n",
       "75%    1.708662e+07    7220.000000  1.950000e+07      33.560887   \n",
       "max    1.735772e+07   14220.000000  2.000000e+09      73.184088   \n",
       "\n",
       "           longitude          baths       bedrooms      Area Size  \n",
       "count  168446.000000  168446.000000  168446.000000  168446.000000  \n",
       "mean       71.239804       2.874227       3.179422       5.892188  \n",
       "std         3.133042       2.463400       1.971401       5.778327  \n",
       "min        25.906027       0.000000       0.000000       0.000000  \n",
       "25%        67.130363       0.000000       2.000000       3.000000  \n",
       "50%        73.056182       3.000000       3.000000       5.000000  \n",
       "75%        73.259870       4.000000       4.000000       8.000000  \n",
       "max        80.161430     403.000000      68.000000     800.000000  "
      ]
     },
     "execution_count": 18,
     "metadata": {},
     "output_type": "execute_result"
    }
   ],
   "source": [
    "house_df.describe() #  This help to get the basic statistics of numerical columns of the dataset"
   ]
  },
  {
   "cell_type": "markdown",
   "metadata": {},
   "source": [
    "Now, lets find the sum of missing values, and decide on what to do with the missing values"
   ]
  },
  {
   "cell_type": "code",
   "execution_count": 19,
   "metadata": {},
   "outputs": [
    {
     "data": {
      "text/plain": [
       "property_id          0\n",
       "location_id          0\n",
       "page_url             0\n",
       "property_type        0\n",
       "price                0\n",
       "location             0\n",
       "city                 0\n",
       "province_name        0\n",
       "latitude             0\n",
       "longitude            0\n",
       "baths                0\n",
       "area                 0\n",
       "purpose              0\n",
       "bedrooms             0\n",
       "date_added           0\n",
       "agency           44071\n",
       "agent            44072\n",
       "Area Type            0\n",
       "Area Size            0\n",
       "Area Category        0\n",
       "dtype: int64"
      ]
     },
     "execution_count": 19,
     "metadata": {},
     "output_type": "execute_result"
    }
   ],
   "source": [
    "house_df.isnull().sum()"
   ]
  },
  {
   "cell_type": "markdown",
   "metadata": {},
   "source": [
    "From the 'agency' and 'agent' coulmns, we have about 44070 null values. This makes about 26 percentage of the total dataset.\n",
    "So its either we fix the missing values or probably drop the entire two columns if we find them not useful."
   ]
  },
  {
   "cell_type": "code",
   "execution_count": 20,
   "metadata": {},
   "outputs": [
    {
     "data": {
      "text/plain": [
       "26.16387447609323"
      ]
     },
     "execution_count": 20,
     "metadata": {},
     "output_type": "execute_result"
    }
   ],
   "source": [
    "total_dataset = house_df.index.stop\n",
    "null_values=house_df['agent'].isnull().sum()\n",
    "\n",
    "percentage_missing_values = (null_values/total_dataset)*100\n",
    "percentage_missing_values"
   ]
  },
  {
   "cell_type": "code",
   "execution_count": 21,
   "metadata": {},
   "outputs": [
    {
     "data": {
      "text/plain": [
       "property_id      168446\n",
       "location_id        4198\n",
       "page_url         168446\n",
       "property_type         7\n",
       "price              2077\n",
       "location           1509\n",
       "city                  5\n",
       "province_name         3\n",
       "latitude           7838\n",
       "longitude          8316\n",
       "baths                16\n",
       "area                344\n",
       "purpose               2\n",
       "bedrooms             23\n",
       "date_added          124\n",
       "agency             5761\n",
       "agent             10598\n",
       "Area Type             2\n",
       "Area Size           247\n",
       "Area Category        22\n",
       "dtype: int64"
      ]
     },
     "execution_count": 21,
     "metadata": {},
     "output_type": "execute_result"
    }
   ],
   "source": [
    "house_df.nunique()"
   ]
  },
  {
   "cell_type": "markdown",
   "metadata": {},
   "source": [
    "The dataset revealed that there are 7 unique property_types, 5 unique cities, 3 unique province_names, and 2 purposes of the properties."
   ]
  },
  {
   "cell_type": "code",
   "execution_count": 22,
   "metadata": {},
   "outputs": [
    {
     "data": {
      "application/javascript": [
       "window.require && require([\"base/js/namespace\"],function(Jupyter){Jupyter.notebook.save_checkpoint()})"
      ],
      "text/plain": [
       "<IPython.core.display.Javascript object>"
      ]
     },
     "metadata": {},
     "output_type": "display_data"
    },
    {
     "name": "stdout",
     "output_type": "stream",
     "text": [
      "[jovian] Updating notebook \"andrew-efomzy/eda-for-house-prices-in-pakistan-2023\" on https://jovian.com\u001b[0m\n",
      "[jovian] Committed successfully! https://jovian.com/andrew-efomzy/eda-for-house-prices-in-pakistan-2023\u001b[0m\n"
     ]
    },
    {
     "data": {
      "text/plain": [
       "'https://jovian.com/andrew-efomzy/eda-for-house-prices-in-pakistan-2023'"
      ]
     },
     "execution_count": 22,
     "metadata": {},
     "output_type": "execute_result"
    }
   ],
   "source": [
    "jovian.commit()"
   ]
  },
  {
   "cell_type": "markdown",
   "metadata": {},
   "source": [
    "For now, we will be dropping some columns due to their irrelevance to our data analysis. These columns are;\n",
    "\n",
    "1. proporty_id\n",
    "2. location_id\n",
    "3. page_url\n",
    "4. agency\n",
    "5. agent\n",
    "\n",
    "If along our analysis, we find some other data irrelevant, we might likely drop them as well."
   ]
  },
  {
   "cell_type": "code",
   "execution_count": 23,
   "metadata": {},
   "outputs": [],
   "source": [
    "house_df.drop(columns=[\"property_id\", \"location_id\", \"page_url\", \"agency\", \"agent\"], inplace = True)"
   ]
  },
  {
   "cell_type": "code",
   "execution_count": 24,
   "metadata": {},
   "outputs": [
    {
     "data": {
      "text/html": [
       "<div>\n",
       "<style scoped>\n",
       "    .dataframe tbody tr th:only-of-type {\n",
       "        vertical-align: middle;\n",
       "    }\n",
       "\n",
       "    .dataframe tbody tr th {\n",
       "        vertical-align: top;\n",
       "    }\n",
       "\n",
       "    .dataframe thead th {\n",
       "        text-align: right;\n",
       "    }\n",
       "</style>\n",
       "<table border=\"1\" class=\"dataframe\">\n",
       "  <thead>\n",
       "    <tr style=\"text-align: right;\">\n",
       "      <th></th>\n",
       "      <th>property_type</th>\n",
       "      <th>price</th>\n",
       "      <th>location</th>\n",
       "      <th>city</th>\n",
       "      <th>province_name</th>\n",
       "      <th>latitude</th>\n",
       "      <th>longitude</th>\n",
       "      <th>baths</th>\n",
       "      <th>area</th>\n",
       "      <th>purpose</th>\n",
       "      <th>bedrooms</th>\n",
       "      <th>date_added</th>\n",
       "      <th>Area Type</th>\n",
       "      <th>Area Size</th>\n",
       "      <th>Area Category</th>\n",
       "    </tr>\n",
       "  </thead>\n",
       "  <tbody>\n",
       "    <tr>\n",
       "      <th>0</th>\n",
       "      <td>Flat</td>\n",
       "      <td>10000000</td>\n",
       "      <td>G-10</td>\n",
       "      <td>Islamabad</td>\n",
       "      <td>Islamabad Capital</td>\n",
       "      <td>33.679890</td>\n",
       "      <td>73.012640</td>\n",
       "      <td>2</td>\n",
       "      <td>4 Marla</td>\n",
       "      <td>For Sale</td>\n",
       "      <td>2</td>\n",
       "      <td>02-04-2019</td>\n",
       "      <td>Marla</td>\n",
       "      <td>4.0</td>\n",
       "      <td>0-5 Marla</td>\n",
       "    </tr>\n",
       "    <tr>\n",
       "      <th>1</th>\n",
       "      <td>Flat</td>\n",
       "      <td>6900000</td>\n",
       "      <td>E-11</td>\n",
       "      <td>Islamabad</td>\n",
       "      <td>Islamabad Capital</td>\n",
       "      <td>33.700993</td>\n",
       "      <td>72.971492</td>\n",
       "      <td>3</td>\n",
       "      <td>5.6 Marla</td>\n",
       "      <td>For Sale</td>\n",
       "      <td>3</td>\n",
       "      <td>05-04-2019</td>\n",
       "      <td>Marla</td>\n",
       "      <td>5.6</td>\n",
       "      <td>5-10 Marla</td>\n",
       "    </tr>\n",
       "    <tr>\n",
       "      <th>2</th>\n",
       "      <td>House</td>\n",
       "      <td>16500000</td>\n",
       "      <td>G-15</td>\n",
       "      <td>Islamabad</td>\n",
       "      <td>Islamabad Capital</td>\n",
       "      <td>33.631486</td>\n",
       "      <td>72.926559</td>\n",
       "      <td>6</td>\n",
       "      <td>8 Marla</td>\n",
       "      <td>For Sale</td>\n",
       "      <td>5</td>\n",
       "      <td>07-17-2019</td>\n",
       "      <td>Marla</td>\n",
       "      <td>8.0</td>\n",
       "      <td>5-10 Marla</td>\n",
       "    </tr>\n",
       "    <tr>\n",
       "      <th>3</th>\n",
       "      <td>House</td>\n",
       "      <td>43500000</td>\n",
       "      <td>Bani Gala</td>\n",
       "      <td>Islamabad</td>\n",
       "      <td>Islamabad Capital</td>\n",
       "      <td>33.707573</td>\n",
       "      <td>73.151199</td>\n",
       "      <td>4</td>\n",
       "      <td>2 Kanal</td>\n",
       "      <td>For Sale</td>\n",
       "      <td>4</td>\n",
       "      <td>04-05-2019</td>\n",
       "      <td>Kanal</td>\n",
       "      <td>2.0</td>\n",
       "      <td>1-5 Kanal</td>\n",
       "    </tr>\n",
       "    <tr>\n",
       "      <th>4</th>\n",
       "      <td>House</td>\n",
       "      <td>7000000</td>\n",
       "      <td>DHA Defence</td>\n",
       "      <td>Islamabad</td>\n",
       "      <td>Islamabad Capital</td>\n",
       "      <td>33.492591</td>\n",
       "      <td>73.301339</td>\n",
       "      <td>3</td>\n",
       "      <td>8 Marla</td>\n",
       "      <td>For Sale</td>\n",
       "      <td>3</td>\n",
       "      <td>07-10-2019</td>\n",
       "      <td>Marla</td>\n",
       "      <td>8.0</td>\n",
       "      <td>5-10 Marla</td>\n",
       "    </tr>\n",
       "  </tbody>\n",
       "</table>\n",
       "</div>"
      ],
      "text/plain": [
       "  property_type     price     location       city      province_name  \\\n",
       "0          Flat  10000000         G-10  Islamabad  Islamabad Capital   \n",
       "1          Flat   6900000         E-11  Islamabad  Islamabad Capital   \n",
       "2         House  16500000         G-15  Islamabad  Islamabad Capital   \n",
       "3         House  43500000    Bani Gala  Islamabad  Islamabad Capital   \n",
       "4         House   7000000  DHA Defence  Islamabad  Islamabad Capital   \n",
       "\n",
       "    latitude  longitude  baths       area   purpose  bedrooms  date_added  \\\n",
       "0  33.679890  73.012640      2    4 Marla  For Sale         2  02-04-2019   \n",
       "1  33.700993  72.971492      3  5.6 Marla  For Sale         3  05-04-2019   \n",
       "2  33.631486  72.926559      6    8 Marla  For Sale         5  07-17-2019   \n",
       "3  33.707573  73.151199      4    2 Kanal  For Sale         4  04-05-2019   \n",
       "4  33.492591  73.301339      3    8 Marla  For Sale         3  07-10-2019   \n",
       "\n",
       "  Area Type  Area Size Area Category  \n",
       "0     Marla        4.0     0-5 Marla  \n",
       "1     Marla        5.6    5-10 Marla  \n",
       "2     Marla        8.0    5-10 Marla  \n",
       "3     Kanal        2.0     1-5 Kanal  \n",
       "4     Marla        8.0    5-10 Marla  "
      ]
     },
     "execution_count": 24,
     "metadata": {},
     "output_type": "execute_result"
    }
   ],
   "source": [
    "house_df.head(5)"
   ]
  },
  {
   "cell_type": "markdown",
   "metadata": {},
   "source": [
    "#### Removal of Duplicate Values"
   ]
  },
  {
   "cell_type": "code",
   "execution_count": 25,
   "metadata": {},
   "outputs": [
    {
     "data": {
      "text/plain": [
       "20489"
      ]
     },
     "execution_count": 25,
     "metadata": {},
     "output_type": "execute_result"
    }
   ],
   "source": [
    "house_df.duplicated().sum()"
   ]
  },
  {
   "cell_type": "markdown",
   "metadata": {},
   "source": [
    "There are 20489 duplicated values. Its necessary that we remove the duplicate values"
   ]
  },
  {
   "cell_type": "code",
   "execution_count": 26,
   "metadata": {},
   "outputs": [],
   "source": [
    "house_df.drop_duplicates(inplace=True)"
   ]
  },
  {
   "cell_type": "markdown",
   "metadata": {},
   "source": [
    "Lets confirm again if we still have have duplicate values"
   ]
  },
  {
   "cell_type": "code",
   "execution_count": 27,
   "metadata": {},
   "outputs": [
    {
     "data": {
      "text/plain": [
       "0"
      ]
     },
     "execution_count": 27,
     "metadata": {},
     "output_type": "execute_result"
    }
   ],
   "source": [
    "house_df.duplicated().sum()"
   ]
  },
  {
   "cell_type": "code",
   "execution_count": 28,
   "metadata": {},
   "outputs": [
    {
     "data": {
      "text/html": [
       "<div>\n",
       "<style scoped>\n",
       "    .dataframe tbody tr th:only-of-type {\n",
       "        vertical-align: middle;\n",
       "    }\n",
       "\n",
       "    .dataframe tbody tr th {\n",
       "        vertical-align: top;\n",
       "    }\n",
       "\n",
       "    .dataframe thead th {\n",
       "        text-align: right;\n",
       "    }\n",
       "</style>\n",
       "<table border=\"1\" class=\"dataframe\">\n",
       "  <thead>\n",
       "    <tr style=\"text-align: right;\">\n",
       "      <th></th>\n",
       "      <th>property_type</th>\n",
       "      <th>price</th>\n",
       "      <th>location</th>\n",
       "      <th>city</th>\n",
       "      <th>province_name</th>\n",
       "      <th>latitude</th>\n",
       "      <th>longitude</th>\n",
       "      <th>baths</th>\n",
       "      <th>area</th>\n",
       "      <th>purpose</th>\n",
       "      <th>bedrooms</th>\n",
       "      <th>date_added</th>\n",
       "      <th>Area Type</th>\n",
       "      <th>Area Size</th>\n",
       "      <th>Area Category</th>\n",
       "    </tr>\n",
       "  </thead>\n",
       "  <tbody>\n",
       "    <tr>\n",
       "      <th>0</th>\n",
       "      <td>Flat</td>\n",
       "      <td>10000000</td>\n",
       "      <td>G-10</td>\n",
       "      <td>Islamabad</td>\n",
       "      <td>Islamabad Capital</td>\n",
       "      <td>33.679890</td>\n",
       "      <td>73.012640</td>\n",
       "      <td>2</td>\n",
       "      <td>4 Marla</td>\n",
       "      <td>For Sale</td>\n",
       "      <td>2</td>\n",
       "      <td>02-04-2019</td>\n",
       "      <td>Marla</td>\n",
       "      <td>4.0</td>\n",
       "      <td>0-5 Marla</td>\n",
       "    </tr>\n",
       "    <tr>\n",
       "      <th>1</th>\n",
       "      <td>Flat</td>\n",
       "      <td>6900000</td>\n",
       "      <td>E-11</td>\n",
       "      <td>Islamabad</td>\n",
       "      <td>Islamabad Capital</td>\n",
       "      <td>33.700993</td>\n",
       "      <td>72.971492</td>\n",
       "      <td>3</td>\n",
       "      <td>5.6 Marla</td>\n",
       "      <td>For Sale</td>\n",
       "      <td>3</td>\n",
       "      <td>05-04-2019</td>\n",
       "      <td>Marla</td>\n",
       "      <td>5.6</td>\n",
       "      <td>5-10 Marla</td>\n",
       "    </tr>\n",
       "    <tr>\n",
       "      <th>2</th>\n",
       "      <td>House</td>\n",
       "      <td>16500000</td>\n",
       "      <td>G-15</td>\n",
       "      <td>Islamabad</td>\n",
       "      <td>Islamabad Capital</td>\n",
       "      <td>33.631486</td>\n",
       "      <td>72.926559</td>\n",
       "      <td>6</td>\n",
       "      <td>8 Marla</td>\n",
       "      <td>For Sale</td>\n",
       "      <td>5</td>\n",
       "      <td>07-17-2019</td>\n",
       "      <td>Marla</td>\n",
       "      <td>8.0</td>\n",
       "      <td>5-10 Marla</td>\n",
       "    </tr>\n",
       "    <tr>\n",
       "      <th>3</th>\n",
       "      <td>House</td>\n",
       "      <td>43500000</td>\n",
       "      <td>Bani Gala</td>\n",
       "      <td>Islamabad</td>\n",
       "      <td>Islamabad Capital</td>\n",
       "      <td>33.707573</td>\n",
       "      <td>73.151199</td>\n",
       "      <td>4</td>\n",
       "      <td>2 Kanal</td>\n",
       "      <td>For Sale</td>\n",
       "      <td>4</td>\n",
       "      <td>04-05-2019</td>\n",
       "      <td>Kanal</td>\n",
       "      <td>2.0</td>\n",
       "      <td>1-5 Kanal</td>\n",
       "    </tr>\n",
       "    <tr>\n",
       "      <th>4</th>\n",
       "      <td>House</td>\n",
       "      <td>7000000</td>\n",
       "      <td>DHA Defence</td>\n",
       "      <td>Islamabad</td>\n",
       "      <td>Islamabad Capital</td>\n",
       "      <td>33.492591</td>\n",
       "      <td>73.301339</td>\n",
       "      <td>3</td>\n",
       "      <td>8 Marla</td>\n",
       "      <td>For Sale</td>\n",
       "      <td>3</td>\n",
       "      <td>07-10-2019</td>\n",
       "      <td>Marla</td>\n",
       "      <td>8.0</td>\n",
       "      <td>5-10 Marla</td>\n",
       "    </tr>\n",
       "    <tr>\n",
       "      <th>...</th>\n",
       "      <td>...</td>\n",
       "      <td>...</td>\n",
       "      <td>...</td>\n",
       "      <td>...</td>\n",
       "      <td>...</td>\n",
       "      <td>...</td>\n",
       "      <td>...</td>\n",
       "      <td>...</td>\n",
       "      <td>...</td>\n",
       "      <td>...</td>\n",
       "      <td>...</td>\n",
       "      <td>...</td>\n",
       "      <td>...</td>\n",
       "      <td>...</td>\n",
       "      <td>...</td>\n",
       "    </tr>\n",
       "    <tr>\n",
       "      <th>168440</th>\n",
       "      <td>Flat</td>\n",
       "      <td>4800000</td>\n",
       "      <td>Gadap Town</td>\n",
       "      <td>Karachi</td>\n",
       "      <td>Sindh</td>\n",
       "      <td>25.022481</td>\n",
       "      <td>67.129082</td>\n",
       "      <td>0</td>\n",
       "      <td>3.8 Marla</td>\n",
       "      <td>For Sale</td>\n",
       "      <td>2</td>\n",
       "      <td>07-18-2019</td>\n",
       "      <td>Marla</td>\n",
       "      <td>3.8</td>\n",
       "      <td>0-5 Marla</td>\n",
       "    </tr>\n",
       "    <tr>\n",
       "      <th>168441</th>\n",
       "      <td>House</td>\n",
       "      <td>26500000</td>\n",
       "      <td>Gadap Town</td>\n",
       "      <td>Karachi</td>\n",
       "      <td>Sindh</td>\n",
       "      <td>25.029909</td>\n",
       "      <td>67.137192</td>\n",
       "      <td>0</td>\n",
       "      <td>9.6 Marla</td>\n",
       "      <td>For Sale</td>\n",
       "      <td>6</td>\n",
       "      <td>07-18-2019</td>\n",
       "      <td>Marla</td>\n",
       "      <td>9.6</td>\n",
       "      <td>5-10 Marla</td>\n",
       "    </tr>\n",
       "    <tr>\n",
       "      <th>168442</th>\n",
       "      <td>House</td>\n",
       "      <td>12500000</td>\n",
       "      <td>Gadap Town</td>\n",
       "      <td>Karachi</td>\n",
       "      <td>Sindh</td>\n",
       "      <td>25.017951</td>\n",
       "      <td>67.136393</td>\n",
       "      <td>0</td>\n",
       "      <td>8 Marla</td>\n",
       "      <td>For Sale</td>\n",
       "      <td>3</td>\n",
       "      <td>07-18-2019</td>\n",
       "      <td>Marla</td>\n",
       "      <td>8.0</td>\n",
       "      <td>5-10 Marla</td>\n",
       "    </tr>\n",
       "    <tr>\n",
       "      <th>168443</th>\n",
       "      <td>House</td>\n",
       "      <td>27000000</td>\n",
       "      <td>Gadap Town</td>\n",
       "      <td>Karachi</td>\n",
       "      <td>Sindh</td>\n",
       "      <td>25.015384</td>\n",
       "      <td>67.116330</td>\n",
       "      <td>0</td>\n",
       "      <td>9.6 Marla</td>\n",
       "      <td>For Sale</td>\n",
       "      <td>6</td>\n",
       "      <td>07-18-2019</td>\n",
       "      <td>Marla</td>\n",
       "      <td>9.6</td>\n",
       "      <td>5-10 Marla</td>\n",
       "    </tr>\n",
       "    <tr>\n",
       "      <th>168444</th>\n",
       "      <td>House</td>\n",
       "      <td>11000000</td>\n",
       "      <td>Gadap Town</td>\n",
       "      <td>Karachi</td>\n",
       "      <td>Sindh</td>\n",
       "      <td>25.013265</td>\n",
       "      <td>67.120818</td>\n",
       "      <td>0</td>\n",
       "      <td>7.8 Marla</td>\n",
       "      <td>For Sale</td>\n",
       "      <td>3</td>\n",
       "      <td>07-18-2019</td>\n",
       "      <td>Marla</td>\n",
       "      <td>7.8</td>\n",
       "      <td>5-10 Marla</td>\n",
       "    </tr>\n",
       "  </tbody>\n",
       "</table>\n",
       "<p>147957 rows × 15 columns</p>\n",
       "</div>"
      ],
      "text/plain": [
       "       property_type     price     location       city      province_name  \\\n",
       "0               Flat  10000000         G-10  Islamabad  Islamabad Capital   \n",
       "1               Flat   6900000         E-11  Islamabad  Islamabad Capital   \n",
       "2              House  16500000         G-15  Islamabad  Islamabad Capital   \n",
       "3              House  43500000    Bani Gala  Islamabad  Islamabad Capital   \n",
       "4              House   7000000  DHA Defence  Islamabad  Islamabad Capital   \n",
       "...              ...       ...          ...        ...                ...   \n",
       "168440          Flat   4800000   Gadap Town    Karachi              Sindh   \n",
       "168441         House  26500000   Gadap Town    Karachi              Sindh   \n",
       "168442         House  12500000   Gadap Town    Karachi              Sindh   \n",
       "168443         House  27000000   Gadap Town    Karachi              Sindh   \n",
       "168444         House  11000000   Gadap Town    Karachi              Sindh   \n",
       "\n",
       "         latitude  longitude  baths       area   purpose  bedrooms  \\\n",
       "0       33.679890  73.012640      2    4 Marla  For Sale         2   \n",
       "1       33.700993  72.971492      3  5.6 Marla  For Sale         3   \n",
       "2       33.631486  72.926559      6    8 Marla  For Sale         5   \n",
       "3       33.707573  73.151199      4    2 Kanal  For Sale         4   \n",
       "4       33.492591  73.301339      3    8 Marla  For Sale         3   \n",
       "...           ...        ...    ...        ...       ...       ...   \n",
       "168440  25.022481  67.129082      0  3.8 Marla  For Sale         2   \n",
       "168441  25.029909  67.137192      0  9.6 Marla  For Sale         6   \n",
       "168442  25.017951  67.136393      0    8 Marla  For Sale         3   \n",
       "168443  25.015384  67.116330      0  9.6 Marla  For Sale         6   \n",
       "168444  25.013265  67.120818      0  7.8 Marla  For Sale         3   \n",
       "\n",
       "        date_added Area Type  Area Size Area Category  \n",
       "0       02-04-2019     Marla        4.0     0-5 Marla  \n",
       "1       05-04-2019     Marla        5.6    5-10 Marla  \n",
       "2       07-17-2019     Marla        8.0    5-10 Marla  \n",
       "3       04-05-2019     Kanal        2.0     1-5 Kanal  \n",
       "4       07-10-2019     Marla        8.0    5-10 Marla  \n",
       "...            ...       ...        ...           ...  \n",
       "168440  07-18-2019     Marla        3.8     0-5 Marla  \n",
       "168441  07-18-2019     Marla        9.6    5-10 Marla  \n",
       "168442  07-18-2019     Marla        8.0    5-10 Marla  \n",
       "168443  07-18-2019     Marla        9.6    5-10 Marla  \n",
       "168444  07-18-2019     Marla        7.8    5-10 Marla  \n",
       "\n",
       "[147957 rows x 15 columns]"
      ]
     },
     "execution_count": 28,
     "metadata": {},
     "output_type": "execute_result"
    }
   ],
   "source": [
    "house_df"
   ]
  },
  {
   "cell_type": "markdown",
   "metadata": {},
   "source": [
    "Now, when you look at the area type and area size, you will discover that they are in marla and kanal, and we can;t have an accurate visualization with two different units of area. So, it is important that we change the Area Size from Marla and Kanal into only Marla."
   ]
  },
  {
   "cell_type": "code",
   "execution_count": 29,
   "metadata": {},
   "outputs": [],
   "source": [
    "Area_size_marla = house_df[['Area Type','Area Size']].apply(lambda x: x['Area Size']*20 if x['Area Type'] in ['Kanal'] else x, axis=1)"
   ]
  },
  {
   "cell_type": "code",
   "execution_count": 30,
   "metadata": {},
   "outputs": [],
   "source": [
    "Area_size_marla.drop(['Area Type'],axis=1,inplace=True)"
   ]
  },
  {
   "cell_type": "code",
   "execution_count": 31,
   "metadata": {},
   "outputs": [],
   "source": [
    "Area_size_marla.rename(columns={'Area Size':'Area_size_Marla'},inplace=True)"
   ]
  },
  {
   "cell_type": "code",
   "execution_count": 32,
   "metadata": {},
   "outputs": [],
   "source": [
    "house_df=pd.concat([house_df,Area_size_marla],axis=1)"
   ]
  },
  {
   "cell_type": "code",
   "execution_count": 33,
   "metadata": {},
   "outputs": [
    {
     "data": {
      "text/html": [
       "<div>\n",
       "<style scoped>\n",
       "    .dataframe tbody tr th:only-of-type {\n",
       "        vertical-align: middle;\n",
       "    }\n",
       "\n",
       "    .dataframe tbody tr th {\n",
       "        vertical-align: top;\n",
       "    }\n",
       "\n",
       "    .dataframe thead th {\n",
       "        text-align: right;\n",
       "    }\n",
       "</style>\n",
       "<table border=\"1\" class=\"dataframe\">\n",
       "  <thead>\n",
       "    <tr style=\"text-align: right;\">\n",
       "      <th></th>\n",
       "      <th>property_type</th>\n",
       "      <th>price</th>\n",
       "      <th>location</th>\n",
       "      <th>city</th>\n",
       "      <th>province_name</th>\n",
       "      <th>latitude</th>\n",
       "      <th>longitude</th>\n",
       "      <th>baths</th>\n",
       "      <th>area</th>\n",
       "      <th>purpose</th>\n",
       "      <th>bedrooms</th>\n",
       "      <th>date_added</th>\n",
       "      <th>Area Type</th>\n",
       "      <th>Area Size</th>\n",
       "      <th>Area Category</th>\n",
       "      <th>Area_size_Marla</th>\n",
       "    </tr>\n",
       "  </thead>\n",
       "  <tbody>\n",
       "    <tr>\n",
       "      <th>0</th>\n",
       "      <td>Flat</td>\n",
       "      <td>10000000</td>\n",
       "      <td>G-10</td>\n",
       "      <td>Islamabad</td>\n",
       "      <td>Islamabad Capital</td>\n",
       "      <td>33.679890</td>\n",
       "      <td>73.012640</td>\n",
       "      <td>2</td>\n",
       "      <td>4 Marla</td>\n",
       "      <td>For Sale</td>\n",
       "      <td>2</td>\n",
       "      <td>02-04-2019</td>\n",
       "      <td>Marla</td>\n",
       "      <td>4.0</td>\n",
       "      <td>0-5 Marla</td>\n",
       "      <td>4.0</td>\n",
       "    </tr>\n",
       "    <tr>\n",
       "      <th>1</th>\n",
       "      <td>Flat</td>\n",
       "      <td>6900000</td>\n",
       "      <td>E-11</td>\n",
       "      <td>Islamabad</td>\n",
       "      <td>Islamabad Capital</td>\n",
       "      <td>33.700993</td>\n",
       "      <td>72.971492</td>\n",
       "      <td>3</td>\n",
       "      <td>5.6 Marla</td>\n",
       "      <td>For Sale</td>\n",
       "      <td>3</td>\n",
       "      <td>05-04-2019</td>\n",
       "      <td>Marla</td>\n",
       "      <td>5.6</td>\n",
       "      <td>5-10 Marla</td>\n",
       "      <td>5.6</td>\n",
       "    </tr>\n",
       "    <tr>\n",
       "      <th>2</th>\n",
       "      <td>House</td>\n",
       "      <td>16500000</td>\n",
       "      <td>G-15</td>\n",
       "      <td>Islamabad</td>\n",
       "      <td>Islamabad Capital</td>\n",
       "      <td>33.631486</td>\n",
       "      <td>72.926559</td>\n",
       "      <td>6</td>\n",
       "      <td>8 Marla</td>\n",
       "      <td>For Sale</td>\n",
       "      <td>5</td>\n",
       "      <td>07-17-2019</td>\n",
       "      <td>Marla</td>\n",
       "      <td>8.0</td>\n",
       "      <td>5-10 Marla</td>\n",
       "      <td>8.0</td>\n",
       "    </tr>\n",
       "    <tr>\n",
       "      <th>3</th>\n",
       "      <td>House</td>\n",
       "      <td>43500000</td>\n",
       "      <td>Bani Gala</td>\n",
       "      <td>Islamabad</td>\n",
       "      <td>Islamabad Capital</td>\n",
       "      <td>33.707573</td>\n",
       "      <td>73.151199</td>\n",
       "      <td>4</td>\n",
       "      <td>2 Kanal</td>\n",
       "      <td>For Sale</td>\n",
       "      <td>4</td>\n",
       "      <td>04-05-2019</td>\n",
       "      <td>Kanal</td>\n",
       "      <td>2.0</td>\n",
       "      <td>1-5 Kanal</td>\n",
       "      <td>40.0</td>\n",
       "    </tr>\n",
       "    <tr>\n",
       "      <th>4</th>\n",
       "      <td>House</td>\n",
       "      <td>7000000</td>\n",
       "      <td>DHA Defence</td>\n",
       "      <td>Islamabad</td>\n",
       "      <td>Islamabad Capital</td>\n",
       "      <td>33.492591</td>\n",
       "      <td>73.301339</td>\n",
       "      <td>3</td>\n",
       "      <td>8 Marla</td>\n",
       "      <td>For Sale</td>\n",
       "      <td>3</td>\n",
       "      <td>07-10-2019</td>\n",
       "      <td>Marla</td>\n",
       "      <td>8.0</td>\n",
       "      <td>5-10 Marla</td>\n",
       "      <td>8.0</td>\n",
       "    </tr>\n",
       "    <tr>\n",
       "      <th>...</th>\n",
       "      <td>...</td>\n",
       "      <td>...</td>\n",
       "      <td>...</td>\n",
       "      <td>...</td>\n",
       "      <td>...</td>\n",
       "      <td>...</td>\n",
       "      <td>...</td>\n",
       "      <td>...</td>\n",
       "      <td>...</td>\n",
       "      <td>...</td>\n",
       "      <td>...</td>\n",
       "      <td>...</td>\n",
       "      <td>...</td>\n",
       "      <td>...</td>\n",
       "      <td>...</td>\n",
       "      <td>...</td>\n",
       "    </tr>\n",
       "    <tr>\n",
       "      <th>168440</th>\n",
       "      <td>Flat</td>\n",
       "      <td>4800000</td>\n",
       "      <td>Gadap Town</td>\n",
       "      <td>Karachi</td>\n",
       "      <td>Sindh</td>\n",
       "      <td>25.022481</td>\n",
       "      <td>67.129082</td>\n",
       "      <td>0</td>\n",
       "      <td>3.8 Marla</td>\n",
       "      <td>For Sale</td>\n",
       "      <td>2</td>\n",
       "      <td>07-18-2019</td>\n",
       "      <td>Marla</td>\n",
       "      <td>3.8</td>\n",
       "      <td>0-5 Marla</td>\n",
       "      <td>3.8</td>\n",
       "    </tr>\n",
       "    <tr>\n",
       "      <th>168441</th>\n",
       "      <td>House</td>\n",
       "      <td>26500000</td>\n",
       "      <td>Gadap Town</td>\n",
       "      <td>Karachi</td>\n",
       "      <td>Sindh</td>\n",
       "      <td>25.029909</td>\n",
       "      <td>67.137192</td>\n",
       "      <td>0</td>\n",
       "      <td>9.6 Marla</td>\n",
       "      <td>For Sale</td>\n",
       "      <td>6</td>\n",
       "      <td>07-18-2019</td>\n",
       "      <td>Marla</td>\n",
       "      <td>9.6</td>\n",
       "      <td>5-10 Marla</td>\n",
       "      <td>9.6</td>\n",
       "    </tr>\n",
       "    <tr>\n",
       "      <th>168442</th>\n",
       "      <td>House</td>\n",
       "      <td>12500000</td>\n",
       "      <td>Gadap Town</td>\n",
       "      <td>Karachi</td>\n",
       "      <td>Sindh</td>\n",
       "      <td>25.017951</td>\n",
       "      <td>67.136393</td>\n",
       "      <td>0</td>\n",
       "      <td>8 Marla</td>\n",
       "      <td>For Sale</td>\n",
       "      <td>3</td>\n",
       "      <td>07-18-2019</td>\n",
       "      <td>Marla</td>\n",
       "      <td>8.0</td>\n",
       "      <td>5-10 Marla</td>\n",
       "      <td>8.0</td>\n",
       "    </tr>\n",
       "    <tr>\n",
       "      <th>168443</th>\n",
       "      <td>House</td>\n",
       "      <td>27000000</td>\n",
       "      <td>Gadap Town</td>\n",
       "      <td>Karachi</td>\n",
       "      <td>Sindh</td>\n",
       "      <td>25.015384</td>\n",
       "      <td>67.116330</td>\n",
       "      <td>0</td>\n",
       "      <td>9.6 Marla</td>\n",
       "      <td>For Sale</td>\n",
       "      <td>6</td>\n",
       "      <td>07-18-2019</td>\n",
       "      <td>Marla</td>\n",
       "      <td>9.6</td>\n",
       "      <td>5-10 Marla</td>\n",
       "      <td>9.6</td>\n",
       "    </tr>\n",
       "    <tr>\n",
       "      <th>168444</th>\n",
       "      <td>House</td>\n",
       "      <td>11000000</td>\n",
       "      <td>Gadap Town</td>\n",
       "      <td>Karachi</td>\n",
       "      <td>Sindh</td>\n",
       "      <td>25.013265</td>\n",
       "      <td>67.120818</td>\n",
       "      <td>0</td>\n",
       "      <td>7.8 Marla</td>\n",
       "      <td>For Sale</td>\n",
       "      <td>3</td>\n",
       "      <td>07-18-2019</td>\n",
       "      <td>Marla</td>\n",
       "      <td>7.8</td>\n",
       "      <td>5-10 Marla</td>\n",
       "      <td>7.8</td>\n",
       "    </tr>\n",
       "  </tbody>\n",
       "</table>\n",
       "<p>147957 rows × 16 columns</p>\n",
       "</div>"
      ],
      "text/plain": [
       "       property_type     price     location       city      province_name  \\\n",
       "0               Flat  10000000         G-10  Islamabad  Islamabad Capital   \n",
       "1               Flat   6900000         E-11  Islamabad  Islamabad Capital   \n",
       "2              House  16500000         G-15  Islamabad  Islamabad Capital   \n",
       "3              House  43500000    Bani Gala  Islamabad  Islamabad Capital   \n",
       "4              House   7000000  DHA Defence  Islamabad  Islamabad Capital   \n",
       "...              ...       ...          ...        ...                ...   \n",
       "168440          Flat   4800000   Gadap Town    Karachi              Sindh   \n",
       "168441         House  26500000   Gadap Town    Karachi              Sindh   \n",
       "168442         House  12500000   Gadap Town    Karachi              Sindh   \n",
       "168443         House  27000000   Gadap Town    Karachi              Sindh   \n",
       "168444         House  11000000   Gadap Town    Karachi              Sindh   \n",
       "\n",
       "         latitude  longitude  baths       area   purpose  bedrooms  \\\n",
       "0       33.679890  73.012640      2    4 Marla  For Sale         2   \n",
       "1       33.700993  72.971492      3  5.6 Marla  For Sale         3   \n",
       "2       33.631486  72.926559      6    8 Marla  For Sale         5   \n",
       "3       33.707573  73.151199      4    2 Kanal  For Sale         4   \n",
       "4       33.492591  73.301339      3    8 Marla  For Sale         3   \n",
       "...           ...        ...    ...        ...       ...       ...   \n",
       "168440  25.022481  67.129082      0  3.8 Marla  For Sale         2   \n",
       "168441  25.029909  67.137192      0  9.6 Marla  For Sale         6   \n",
       "168442  25.017951  67.136393      0    8 Marla  For Sale         3   \n",
       "168443  25.015384  67.116330      0  9.6 Marla  For Sale         6   \n",
       "168444  25.013265  67.120818      0  7.8 Marla  For Sale         3   \n",
       "\n",
       "        date_added Area Type  Area Size Area Category  Area_size_Marla  \n",
       "0       02-04-2019     Marla        4.0     0-5 Marla              4.0  \n",
       "1       05-04-2019     Marla        5.6    5-10 Marla              5.6  \n",
       "2       07-17-2019     Marla        8.0    5-10 Marla              8.0  \n",
       "3       04-05-2019     Kanal        2.0     1-5 Kanal             40.0  \n",
       "4       07-10-2019     Marla        8.0    5-10 Marla              8.0  \n",
       "...            ...       ...        ...           ...              ...  \n",
       "168440  07-18-2019     Marla        3.8     0-5 Marla              3.8  \n",
       "168441  07-18-2019     Marla        9.6    5-10 Marla              9.6  \n",
       "168442  07-18-2019     Marla        8.0    5-10 Marla              8.0  \n",
       "168443  07-18-2019     Marla        9.6    5-10 Marla              9.6  \n",
       "168444  07-18-2019     Marla        7.8    5-10 Marla              7.8  \n",
       "\n",
       "[147957 rows x 16 columns]"
      ]
     },
     "execution_count": 33,
     "metadata": {},
     "output_type": "execute_result"
    }
   ],
   "source": [
    "house_df"
   ]
  },
  {
   "cell_type": "code",
   "execution_count": 34,
   "metadata": {},
   "outputs": [
    {
     "data": {
      "application/javascript": [
       "window.require && require([\"base/js/namespace\"],function(Jupyter){Jupyter.notebook.save_checkpoint()})"
      ],
      "text/plain": [
       "<IPython.core.display.Javascript object>"
      ]
     },
     "metadata": {},
     "output_type": "display_data"
    },
    {
     "name": "stdout",
     "output_type": "stream",
     "text": [
      "[jovian] Updating notebook \"andrew-efomzy/eda-for-house-prices-in-pakistan-2023\" on https://jovian.com\u001b[0m\n",
      "[jovian] Committed successfully! https://jovian.com/andrew-efomzy/eda-for-house-prices-in-pakistan-2023\u001b[0m\n"
     ]
    },
    {
     "data": {
      "text/plain": [
       "'https://jovian.com/andrew-efomzy/eda-for-house-prices-in-pakistan-2023'"
      ]
     },
     "execution_count": 34,
     "metadata": {},
     "output_type": "execute_result"
    }
   ],
   "source": [
    "jovian.commit()"
   ]
  },
  {
   "cell_type": "markdown",
   "metadata": {},
   "source": [
    "Now, we will be dropping area, area category, area type and area size, as we won't be needing them for further analysis"
   ]
  },
  {
   "cell_type": "code",
   "execution_count": 35,
   "metadata": {},
   "outputs": [],
   "source": [
    "house_df.drop(columns=[\"area\", \"Area Type\", \"Area Size\", \"Area Category\"], inplace = True)"
   ]
  },
  {
   "cell_type": "code",
   "execution_count": 36,
   "metadata": {},
   "outputs": [
    {
     "data": {
      "text/html": [
       "<div>\n",
       "<style scoped>\n",
       "    .dataframe tbody tr th:only-of-type {\n",
       "        vertical-align: middle;\n",
       "    }\n",
       "\n",
       "    .dataframe tbody tr th {\n",
       "        vertical-align: top;\n",
       "    }\n",
       "\n",
       "    .dataframe thead th {\n",
       "        text-align: right;\n",
       "    }\n",
       "</style>\n",
       "<table border=\"1\" class=\"dataframe\">\n",
       "  <thead>\n",
       "    <tr style=\"text-align: right;\">\n",
       "      <th></th>\n",
       "      <th>property_type</th>\n",
       "      <th>price</th>\n",
       "      <th>location</th>\n",
       "      <th>city</th>\n",
       "      <th>province_name</th>\n",
       "      <th>latitude</th>\n",
       "      <th>longitude</th>\n",
       "      <th>baths</th>\n",
       "      <th>purpose</th>\n",
       "      <th>bedrooms</th>\n",
       "      <th>date_added</th>\n",
       "      <th>Area_size_Marla</th>\n",
       "    </tr>\n",
       "  </thead>\n",
       "  <tbody>\n",
       "    <tr>\n",
       "      <th>0</th>\n",
       "      <td>Flat</td>\n",
       "      <td>10000000</td>\n",
       "      <td>G-10</td>\n",
       "      <td>Islamabad</td>\n",
       "      <td>Islamabad Capital</td>\n",
       "      <td>33.679890</td>\n",
       "      <td>73.012640</td>\n",
       "      <td>2</td>\n",
       "      <td>For Sale</td>\n",
       "      <td>2</td>\n",
       "      <td>02-04-2019</td>\n",
       "      <td>4.0</td>\n",
       "    </tr>\n",
       "    <tr>\n",
       "      <th>1</th>\n",
       "      <td>Flat</td>\n",
       "      <td>6900000</td>\n",
       "      <td>E-11</td>\n",
       "      <td>Islamabad</td>\n",
       "      <td>Islamabad Capital</td>\n",
       "      <td>33.700993</td>\n",
       "      <td>72.971492</td>\n",
       "      <td>3</td>\n",
       "      <td>For Sale</td>\n",
       "      <td>3</td>\n",
       "      <td>05-04-2019</td>\n",
       "      <td>5.6</td>\n",
       "    </tr>\n",
       "    <tr>\n",
       "      <th>2</th>\n",
       "      <td>House</td>\n",
       "      <td>16500000</td>\n",
       "      <td>G-15</td>\n",
       "      <td>Islamabad</td>\n",
       "      <td>Islamabad Capital</td>\n",
       "      <td>33.631486</td>\n",
       "      <td>72.926559</td>\n",
       "      <td>6</td>\n",
       "      <td>For Sale</td>\n",
       "      <td>5</td>\n",
       "      <td>07-17-2019</td>\n",
       "      <td>8.0</td>\n",
       "    </tr>\n",
       "    <tr>\n",
       "      <th>3</th>\n",
       "      <td>House</td>\n",
       "      <td>43500000</td>\n",
       "      <td>Bani Gala</td>\n",
       "      <td>Islamabad</td>\n",
       "      <td>Islamabad Capital</td>\n",
       "      <td>33.707573</td>\n",
       "      <td>73.151199</td>\n",
       "      <td>4</td>\n",
       "      <td>For Sale</td>\n",
       "      <td>4</td>\n",
       "      <td>04-05-2019</td>\n",
       "      <td>40.0</td>\n",
       "    </tr>\n",
       "    <tr>\n",
       "      <th>4</th>\n",
       "      <td>House</td>\n",
       "      <td>7000000</td>\n",
       "      <td>DHA Defence</td>\n",
       "      <td>Islamabad</td>\n",
       "      <td>Islamabad Capital</td>\n",
       "      <td>33.492591</td>\n",
       "      <td>73.301339</td>\n",
       "      <td>3</td>\n",
       "      <td>For Sale</td>\n",
       "      <td>3</td>\n",
       "      <td>07-10-2019</td>\n",
       "      <td>8.0</td>\n",
       "    </tr>\n",
       "  </tbody>\n",
       "</table>\n",
       "</div>"
      ],
      "text/plain": [
       "  property_type     price     location       city      province_name  \\\n",
       "0          Flat  10000000         G-10  Islamabad  Islamabad Capital   \n",
       "1          Flat   6900000         E-11  Islamabad  Islamabad Capital   \n",
       "2         House  16500000         G-15  Islamabad  Islamabad Capital   \n",
       "3         House  43500000    Bani Gala  Islamabad  Islamabad Capital   \n",
       "4         House   7000000  DHA Defence  Islamabad  Islamabad Capital   \n",
       "\n",
       "    latitude  longitude  baths   purpose  bedrooms  date_added  \\\n",
       "0  33.679890  73.012640      2  For Sale         2  02-04-2019   \n",
       "1  33.700993  72.971492      3  For Sale         3  05-04-2019   \n",
       "2  33.631486  72.926559      6  For Sale         5  07-17-2019   \n",
       "3  33.707573  73.151199      4  For Sale         4  04-05-2019   \n",
       "4  33.492591  73.301339      3  For Sale         3  07-10-2019   \n",
       "\n",
       "   Area_size_Marla  \n",
       "0              4.0  \n",
       "1              5.6  \n",
       "2              8.0  \n",
       "3             40.0  \n",
       "4              8.0  "
      ]
     },
     "execution_count": 36,
     "metadata": {},
     "output_type": "execute_result"
    }
   ],
   "source": [
    "house_df.head(5)"
   ]
  },
  {
   "cell_type": "code",
   "execution_count": 37,
   "metadata": {},
   "outputs": [
    {
     "name": "stdout",
     "output_type": "stream",
     "text": [
      "<class 'pandas.core.frame.DataFrame'>\n",
      "Int64Index: 147957 entries, 0 to 168444\n",
      "Data columns (total 12 columns):\n",
      " #   Column           Non-Null Count   Dtype  \n",
      "---  ------           --------------   -----  \n",
      " 0   property_type    147957 non-null  object \n",
      " 1   price            147957 non-null  int64  \n",
      " 2   location         147957 non-null  object \n",
      " 3   city             147957 non-null  object \n",
      " 4   province_name    147957 non-null  object \n",
      " 5   latitude         147957 non-null  float64\n",
      " 6   longitude        147957 non-null  float64\n",
      " 7   baths            147957 non-null  int64  \n",
      " 8   purpose          147957 non-null  object \n",
      " 9   bedrooms         147957 non-null  int64  \n",
      " 10  date_added       147957 non-null  object \n",
      " 11  Area_size_Marla  147957 non-null  float64\n",
      "dtypes: float64(3), int64(3), object(6)\n",
      "memory usage: 14.7+ MB\n"
     ]
    }
   ],
   "source": [
    "house_df.info()"
   ]
  },
  {
   "cell_type": "markdown",
   "metadata": {},
   "source": [
    "Lets get the correlation between the various numeric columns by using house_df.corr"
   ]
  },
  {
   "cell_type": "code",
   "execution_count": 38,
   "metadata": {},
   "outputs": [
    {
     "data": {
      "text/html": [
       "<div>\n",
       "<style scoped>\n",
       "    .dataframe tbody tr th:only-of-type {\n",
       "        vertical-align: middle;\n",
       "    }\n",
       "\n",
       "    .dataframe tbody tr th {\n",
       "        vertical-align: top;\n",
       "    }\n",
       "\n",
       "    .dataframe thead th {\n",
       "        text-align: right;\n",
       "    }\n",
       "</style>\n",
       "<table border=\"1\" class=\"dataframe\">\n",
       "  <thead>\n",
       "    <tr style=\"text-align: right;\">\n",
       "      <th></th>\n",
       "      <th>price</th>\n",
       "      <th>latitude</th>\n",
       "      <th>longitude</th>\n",
       "      <th>baths</th>\n",
       "      <th>bedrooms</th>\n",
       "      <th>Area_size_Marla</th>\n",
       "    </tr>\n",
       "  </thead>\n",
       "  <tbody>\n",
       "    <tr>\n",
       "      <th>price</th>\n",
       "      <td>1.000000</td>\n",
       "      <td>-0.070866</td>\n",
       "      <td>-0.019978</td>\n",
       "      <td>0.217375</td>\n",
       "      <td>0.304072</td>\n",
       "      <td>0.105916</td>\n",
       "    </tr>\n",
       "    <tr>\n",
       "      <th>latitude</th>\n",
       "      <td>-0.070866</td>\n",
       "      <td>1.000000</td>\n",
       "      <td>0.924510</td>\n",
       "      <td>0.066797</td>\n",
       "      <td>0.044209</td>\n",
       "      <td>0.021702</td>\n",
       "    </tr>\n",
       "    <tr>\n",
       "      <th>longitude</th>\n",
       "      <td>-0.019978</td>\n",
       "      <td>0.924510</td>\n",
       "      <td>1.000000</td>\n",
       "      <td>0.105951</td>\n",
       "      <td>0.087763</td>\n",
       "      <td>0.018654</td>\n",
       "    </tr>\n",
       "    <tr>\n",
       "      <th>baths</th>\n",
       "      <td>0.217375</td>\n",
       "      <td>0.066797</td>\n",
       "      <td>0.105951</td>\n",
       "      <td>1.000000</td>\n",
       "      <td>0.656795</td>\n",
       "      <td>0.020300</td>\n",
       "    </tr>\n",
       "    <tr>\n",
       "      <th>bedrooms</th>\n",
       "      <td>0.304072</td>\n",
       "      <td>0.044209</td>\n",
       "      <td>0.087763</td>\n",
       "      <td>0.656795</td>\n",
       "      <td>1.000000</td>\n",
       "      <td>0.024778</td>\n",
       "    </tr>\n",
       "    <tr>\n",
       "      <th>Area_size_Marla</th>\n",
       "      <td>0.105916</td>\n",
       "      <td>0.021702</td>\n",
       "      <td>0.018654</td>\n",
       "      <td>0.020300</td>\n",
       "      <td>0.024778</td>\n",
       "      <td>1.000000</td>\n",
       "    </tr>\n",
       "  </tbody>\n",
       "</table>\n",
       "</div>"
      ],
      "text/plain": [
       "                    price  latitude  longitude     baths  bedrooms  \\\n",
       "price            1.000000 -0.070866  -0.019978  0.217375  0.304072   \n",
       "latitude        -0.070866  1.000000   0.924510  0.066797  0.044209   \n",
       "longitude       -0.019978  0.924510   1.000000  0.105951  0.087763   \n",
       "baths            0.217375  0.066797   0.105951  1.000000  0.656795   \n",
       "bedrooms         0.304072  0.044209   0.087763  0.656795  1.000000   \n",
       "Area_size_Marla  0.105916  0.021702   0.018654  0.020300  0.024778   \n",
       "\n",
       "                 Area_size_Marla  \n",
       "price                   0.105916  \n",
       "latitude                0.021702  \n",
       "longitude               0.018654  \n",
       "baths                   0.020300  \n",
       "bedrooms                0.024778  \n",
       "Area_size_Marla         1.000000  "
      ]
     },
     "execution_count": 38,
     "metadata": {},
     "output_type": "execute_result"
    }
   ],
   "source": [
    "house_df.corr()"
   ]
  },
  {
   "cell_type": "code",
   "execution_count": 39,
   "metadata": {},
   "outputs": [
    {
     "data": {
      "image/png": "[encoded data removed]",
      "text/plain": [
       "<Figure size 648x360 with 2 Axes>"
      ]
     },
     "metadata": {
      "needs_background": "light"
     },
     "output_type": "display_data"
    }
   ],
   "source": [
    "sns.heatmap(house_df.corr(), annot = True)\n",
    "\n",
    "plt.rcParams['figure.figsize'] = (20,7)\n",
    "\n",
    "plt.title('Correlation between various numeric columns')\n",
    "\n",
    "plt.show()"
   ]
  },
  {
   "cell_type": "markdown",
   "metadata": {},
   "source": [
    "\n",
    "From the heatmap above, we can see a good correlation between price and baths, bedrooms and Area_size_Marla."
   ]
  },
  {
   "cell_type": "code",
   "execution_count": 40,
   "metadata": {},
   "outputs": [
    {
     "data": {
      "application/javascript": [
       "window.require && require([\"base/js/namespace\"],function(Jupyter){Jupyter.notebook.save_checkpoint()})"
      ],
      "text/plain": [
       "<IPython.core.display.Javascript object>"
      ]
     },
     "metadata": {},
     "output_type": "display_data"
    },
    {
     "name": "stdout",
     "output_type": "stream",
     "text": [
      "[jovian] Updating notebook \"andrew-efomzy/eda-for-house-prices-in-pakistan-2023\" on https://jovian.com\u001b[0m\n",
      "[jovian] Committed successfully! https://jovian.com/andrew-efomzy/eda-for-house-prices-in-pakistan-2023\u001b[0m\n"
     ]
    },
    {
     "data": {
      "text/plain": [
       "'https://jovian.com/andrew-efomzy/eda-for-house-prices-in-pakistan-2023'"
      ]
     },
     "execution_count": 40,
     "metadata": {},
     "output_type": "execute_result"
    }
   ],
   "source": [
    "jovian.commit()"
   ]
  },
  {
   "cell_type": "markdown",
   "metadata": {},
   "source": [
    "## Exploratory Analysis and Visualization\n",
    "\n",
    "\n",
    "Before we ask questions about the house prices, it would be good we explore and understand certain variables that influence the house price. Such as property_types, city, province etc. It's essential to explore these variables to\n",
    "understand the dataset better\n",
    "\n"
   ]
  },
  {
   "cell_type": "markdown",
   "metadata": {},
   "source": [
    "### Property_type\n",
    "Let's look at the number of property types upon which this dataset was based and plot a bar chart of the different property types\n"
   ]
  },
  {
   "cell_type": "code",
   "execution_count": 41,
   "metadata": {},
   "outputs": [
    {
     "data": {
      "text/plain": [
       "7"
      ]
     },
     "execution_count": 41,
     "metadata": {},
     "output_type": "execute_result"
    }
   ],
   "source": [
    "house_df['property_type'].nunique()"
   ]
  },
  {
   "cell_type": "code",
   "execution_count": 42,
   "metadata": {},
   "outputs": [
    {
     "data": {
      "text/plain": [
       "array(['Flat', 'House', 'Penthouse', 'Farm House', 'Lower Portion',\n",
       "       'Upper Portion', 'Room'], dtype=object)"
      ]
     },
     "execution_count": 42,
     "metadata": {},
     "output_type": "execute_result"
    }
   ],
   "source": [
    "house_df['property_type'].unique()"
   ]
  },
  {
   "cell_type": "markdown",
   "metadata": {},
   "source": [
    "We can identify the number of property_types by using the value_counts method.\n"
   ]
  },
  {
   "cell_type": "code",
   "execution_count": 43,
   "metadata": {},
   "outputs": [],
   "source": [
    "property_count = house_df['property_type'].value_counts()"
   ]
  },
  {
   "cell_type": "code",
   "execution_count": 44,
   "metadata": {},
   "outputs": [
    {
     "data": {
      "text/plain": [
       "House            93061\n",
       "Flat             33265\n",
       "Upper Portion    12011\n",
       "Lower Portion     7968\n",
       "Room               659\n",
       "Farm House         618\n",
       "Penthouse          375\n",
       "Name: property_type, dtype: int64"
      ]
     },
     "execution_count": 44,
     "metadata": {},
     "output_type": "execute_result"
    }
   ],
   "source": [
    "property_count"
   ]
  },
  {
   "cell_type": "markdown",
   "metadata": {},
   "source": [
    "We can visualize this information using a bar chart.\n"
   ]
  },
  {
   "cell_type": "code",
   "execution_count": 45,
   "metadata": {},
   "outputs": [
    {
     "data": {
      "image/png": "[encoded data removed]",
      "text/plain": [
       "<Figure size 864x432 with 1 Axes>"
      ]
     },
     "metadata": {
      "needs_background": "light"
     },
     "output_type": "display_data"
    }
   ],
   "source": [
    "plt.figure(figsize=(12,6))\n",
    "plt.xticks(rotation=75)\n",
    "plt.title('count of property types')\n",
    "sns.barplot(x=property_count.index, y=property_count);\n"
   ]
  },
  {
   "cell_type": "markdown",
   "metadata": {},
   "source": [
    "It appears that 'house' is the highest property type in this dataset. This is probably because houses are the most abundant property types in Pakistan while penthouse is the least. The reason could also possibly be because families tend to live together in a large house in order to foster unity and cooperation.\n"
   ]
  },
  {
   "cell_type": "markdown",
   "metadata": {},
   "source": [
    "### Price\n",
    "The price is another crucial factor to look at. We will sort the price and look at some crucial factors that determine the price."
   ]
  },
  {
   "cell_type": "code",
   "execution_count": 46,
   "metadata": {},
   "outputs": [
    {
     "data": {
      "text/plain": [
       "85499     2000000000\n",
       "58032     1450000000\n",
       "68867     1430000000\n",
       "77087     1350000000\n",
       "15320     1270000000\n",
       "             ...    \n",
       "156148             1\n",
       "162480             1\n",
       "132855             0\n",
       "66537              0\n",
       "91608              0\n",
       "Name: price, Length: 147957, dtype: int64"
      ]
     },
     "execution_count": 46,
     "metadata": {},
     "output_type": "execute_result"
    }
   ],
   "source": [
    "house_df['price'].sort_values(ascending = False)"
   ]
  },
  {
   "cell_type": "code",
   "execution_count": 47,
   "metadata": {},
   "outputs": [
    {
     "data": {
      "text/html": [
       "<div>\n",
       "<style scoped>\n",
       "    .dataframe tbody tr th:only-of-type {\n",
       "        vertical-align: middle;\n",
       "    }\n",
       "\n",
       "    .dataframe tbody tr th {\n",
       "        vertical-align: top;\n",
       "    }\n",
       "\n",
       "    .dataframe thead th {\n",
       "        text-align: right;\n",
       "    }\n",
       "</style>\n",
       "<table border=\"1\" class=\"dataframe\">\n",
       "  <thead>\n",
       "    <tr style=\"text-align: right;\">\n",
       "      <th></th>\n",
       "      <th>property_type</th>\n",
       "      <th>price</th>\n",
       "      <th>location</th>\n",
       "      <th>city</th>\n",
       "      <th>province_name</th>\n",
       "      <th>latitude</th>\n",
       "      <th>longitude</th>\n",
       "      <th>baths</th>\n",
       "      <th>purpose</th>\n",
       "      <th>bedrooms</th>\n",
       "      <th>date_added</th>\n",
       "      <th>Area_size_Marla</th>\n",
       "    </tr>\n",
       "  </thead>\n",
       "  <tbody>\n",
       "    <tr>\n",
       "      <th>66537</th>\n",
       "      <td>House</td>\n",
       "      <td>0</td>\n",
       "      <td>Range Road</td>\n",
       "      <td>Rawalpindi</td>\n",
       "      <td>Punjab</td>\n",
       "      <td>33.598593</td>\n",
       "      <td>73.018003</td>\n",
       "      <td>0</td>\n",
       "      <td>For Rent</td>\n",
       "      <td>0</td>\n",
       "      <td>05-06-2019</td>\n",
       "      <td>5.0</td>\n",
       "    </tr>\n",
       "    <tr>\n",
       "      <th>91608</th>\n",
       "      <td>Farm House</td>\n",
       "      <td>0</td>\n",
       "      <td>Gadap Road</td>\n",
       "      <td>Karachi</td>\n",
       "      <td>Sindh</td>\n",
       "      <td>25.053956</td>\n",
       "      <td>67.253365</td>\n",
       "      <td>0</td>\n",
       "      <td>For Sale</td>\n",
       "      <td>0</td>\n",
       "      <td>06-21-2019</td>\n",
       "      <td>160.0</td>\n",
       "    </tr>\n",
       "    <tr>\n",
       "      <th>132855</th>\n",
       "      <td>House</td>\n",
       "      <td>0</td>\n",
       "      <td>Gulshan Abad</td>\n",
       "      <td>Rawalpindi</td>\n",
       "      <td>Punjab</td>\n",
       "      <td>33.530556</td>\n",
       "      <td>73.061264</td>\n",
       "      <td>0</td>\n",
       "      <td>For Sale</td>\n",
       "      <td>0</td>\n",
       "      <td>07-05-2019</td>\n",
       "      <td>10.0</td>\n",
       "    </tr>\n",
       "  </tbody>\n",
       "</table>\n",
       "</div>"
      ],
      "text/plain": [
       "       property_type  price      location        city province_name  \\\n",
       "66537          House      0    Range Road  Rawalpindi        Punjab   \n",
       "91608     Farm House      0    Gadap Road     Karachi         Sindh   \n",
       "132855         House      0  Gulshan Abad  Rawalpindi        Punjab   \n",
       "\n",
       "         latitude  longitude  baths   purpose  bedrooms  date_added  \\\n",
       "66537   33.598593  73.018003      0  For Rent         0  05-06-2019   \n",
       "91608   25.053956  67.253365      0  For Sale         0  06-21-2019   \n",
       "132855  33.530556  73.061264      0  For Sale         0  07-05-2019   \n",
       "\n",
       "        Area_size_Marla  \n",
       "66537               5.0  \n",
       "91608             160.0  \n",
       "132855             10.0  "
      ]
     },
     "execution_count": 47,
     "metadata": {},
     "output_type": "execute_result"
    }
   ],
   "source": [
    "house_df[house_df['price'] == 0]"
   ]
  },
  {
   "cell_type": "markdown",
   "metadata": {},
   "source": [
    "It is interesting to know that irrespective of the property_type, city and province, any property type without baths and bedrooms have a procr value of zero/ This is an interesting obervation."
   ]
  },
  {
   "cell_type": "markdown",
   "metadata": {},
   "source": [
    "### Baths\n",
    "The number of baths also determines the Price of the property. So it will be good we explore the number of baths in the properties."
   ]
  },
  {
   "cell_type": "code",
   "execution_count": 48,
   "metadata": {},
   "outputs": [
    {
     "data": {
      "text/plain": [
       "0      35572\n",
       "3      29060\n",
       "2      22449\n",
       "4      17985\n",
       "6      15362\n",
       "5      14067\n",
       "7       5151\n",
       "1       4792\n",
       "8       1970\n",
       "10       839\n",
       "9        688\n",
       "12        10\n",
       "11         5\n",
       "13         3\n",
       "14         3\n",
       "403        1\n",
       "Name: baths, dtype: int64"
      ]
     },
     "execution_count": 48,
     "metadata": {},
     "output_type": "execute_result"
    }
   ],
   "source": [
    "baths_count = house_df['baths'].value_counts()\n",
    "baths_count"
   ]
  },
  {
   "cell_type": "code",
   "execution_count": 50,
   "metadata": {},
   "outputs": [
    {
     "data": {
      "image/png": "[encoded data removed]",
      "text/plain": [
       "<Figure size 1440x504 with 1 Axes>"
      ]
     },
     "metadata": {
      "needs_background": "light"
     },
     "output_type": "display_data"
    }
   ],
   "source": [
    "baths_count.plot.barh(title=('Counts of number of bedrooms'));"
   ]
  },
  {
   "cell_type": "markdown",
   "metadata": {},
   "source": [
    "From the chart above, we can see that 35000 of the properties have zero baths. Surprisingly, 1 property has 403 baths which is very ridiculous. So it will be good we explore further to know the property that has such high number of baths, so as to decide on whether to drop the row if its a mistake."
   ]
  },
  {
   "cell_type": "code",
   "execution_count": 51,
   "metadata": {},
   "outputs": [
    {
     "data": {
      "text/html": [
       "<div>\n",
       "<style scoped>\n",
       "    .dataframe tbody tr th:only-of-type {\n",
       "        vertical-align: middle;\n",
       "    }\n",
       "\n",
       "    .dataframe tbody tr th {\n",
       "        vertical-align: top;\n",
       "    }\n",
       "\n",
       "    .dataframe thead th {\n",
       "        text-align: right;\n",
       "    }\n",
       "</style>\n",
       "<table border=\"1\" class=\"dataframe\">\n",
       "  <thead>\n",
       "    <tr style=\"text-align: right;\">\n",
       "      <th></th>\n",
       "      <th>property_type</th>\n",
       "      <th>price</th>\n",
       "      <th>location</th>\n",
       "      <th>city</th>\n",
       "      <th>province_name</th>\n",
       "      <th>latitude</th>\n",
       "      <th>longitude</th>\n",
       "      <th>baths</th>\n",
       "      <th>purpose</th>\n",
       "      <th>bedrooms</th>\n",
       "      <th>date_added</th>\n",
       "      <th>Area_size_Marla</th>\n",
       "    </tr>\n",
       "  </thead>\n",
       "  <tbody>\n",
       "    <tr>\n",
       "      <th>129605</th>\n",
       "      <td>House</td>\n",
       "      <td>15000000</td>\n",
       "      <td>Khayaban-e-Sir Syed</td>\n",
       "      <td>Rawalpindi</td>\n",
       "      <td>Punjab</td>\n",
       "      <td>33.638847</td>\n",
       "      <td>73.048089</td>\n",
       "      <td>403</td>\n",
       "      <td>For Sale</td>\n",
       "      <td>6</td>\n",
       "      <td>07-04-2019</td>\n",
       "      <td>5.0</td>\n",
       "    </tr>\n",
       "  </tbody>\n",
       "</table>\n",
       "</div>"
      ],
      "text/plain": [
       "       property_type     price             location        city province_name  \\\n",
       "129605         House  15000000  Khayaban-e-Sir Syed  Rawalpindi        Punjab   \n",
       "\n",
       "         latitude  longitude  baths   purpose  bedrooms  date_added  \\\n",
       "129605  33.638847  73.048089    403  For Sale         6  07-04-2019   \n",
       "\n",
       "        Area_size_Marla  \n",
       "129605              5.0  "
      ]
     },
     "execution_count": 51,
     "metadata": {},
     "output_type": "execute_result"
    }
   ],
   "source": [
    "house_df[house_df['baths'] == 403]"
   ]
  },
  {
   "cell_type": "markdown",
   "metadata": {},
   "source": [
    "It is clear that 403 baths is an outlier. But we will leave it the way it is and probably make further inquiry from the client or browse the internet to ascertain the high number of baths in a house in Rawalpindi city of Punjab Province."
   ]
  },
  {
   "cell_type": "markdown",
   "metadata": {},
   "source": [
    "### Bedrooms\n",
    "The number of bedrooms also determines the Price of the property. So it will be good we explore the number of bedrooms in the properties."
   ]
  },
  {
   "cell_type": "code",
   "execution_count": 52,
   "metadata": {},
   "outputs": [
    {
     "data": {
      "image/png": "[encoded data removed]",
      "text/plain": [
       "<Figure size 1440x504 with 1 Axes>"
      ]
     },
     "metadata": {
      "needs_background": "light"
     },
     "output_type": "display_data"
    }
   ],
   "source": [
    "sns.countplot(y=house_df['bedrooms'])\n",
    "plt.xticks(rotation=75);\n",
    "plt.title('Counts of number of bedrooms')\n",
    "plt.ylabel(None);\n"
   ]
  },
  {
   "cell_type": "markdown",
   "metadata": {},
   "source": [
    "From the chart above, we can see that about 40000 of the properties have 3 bedrooms. Surprisingly, there is/are property/ies having 68 bedrooms which is quite high. So it will be good we explore further to know the property that has such high number of bedrroms."
   ]
  },
  {
   "cell_type": "code",
   "execution_count": 53,
   "metadata": {},
   "outputs": [
    {
     "data": {
      "text/html": [
       "<div>\n",
       "<style scoped>\n",
       "    .dataframe tbody tr th:only-of-type {\n",
       "        vertical-align: middle;\n",
       "    }\n",
       "\n",
       "    .dataframe tbody tr th {\n",
       "        vertical-align: top;\n",
       "    }\n",
       "\n",
       "    .dataframe thead th {\n",
       "        text-align: right;\n",
       "    }\n",
       "</style>\n",
       "<table border=\"1\" class=\"dataframe\">\n",
       "  <thead>\n",
       "    <tr style=\"text-align: right;\">\n",
       "      <th></th>\n",
       "      <th>property_type</th>\n",
       "      <th>price</th>\n",
       "      <th>location</th>\n",
       "      <th>city</th>\n",
       "      <th>province_name</th>\n",
       "      <th>latitude</th>\n",
       "      <th>longitude</th>\n",
       "      <th>baths</th>\n",
       "      <th>purpose</th>\n",
       "      <th>bedrooms</th>\n",
       "      <th>date_added</th>\n",
       "      <th>Area_size_Marla</th>\n",
       "    </tr>\n",
       "  </thead>\n",
       "  <tbody>\n",
       "    <tr>\n",
       "      <th>140891</th>\n",
       "      <td>House</td>\n",
       "      <td>2500000</td>\n",
       "      <td>North Nazimabad</td>\n",
       "      <td>Karachi</td>\n",
       "      <td>Sindh</td>\n",
       "      <td>24.925361</td>\n",
       "      <td>67.039089</td>\n",
       "      <td>0</td>\n",
       "      <td>For Rent</td>\n",
       "      <td>68</td>\n",
       "      <td>07-09-2019</td>\n",
       "      <td>132.0</td>\n",
       "    </tr>\n",
       "  </tbody>\n",
       "</table>\n",
       "</div>"
      ],
      "text/plain": [
       "       property_type    price         location     city province_name  \\\n",
       "140891         House  2500000  North Nazimabad  Karachi         Sindh   \n",
       "\n",
       "         latitude  longitude  baths   purpose  bedrooms  date_added  \\\n",
       "140891  24.925361  67.039089      0  For Rent        68  07-09-2019   \n",
       "\n",
       "        Area_size_Marla  \n",
       "140891            132.0  "
      ]
     },
     "execution_count": 53,
     "metadata": {},
     "output_type": "execute_result"
    }
   ],
   "source": [
    "house_df[house_df['bedrooms'] == 68]"
   ]
  },
  {
   "cell_type": "markdown",
   "metadata": {},
   "source": [
    "68 bedrooms seem like an outlier. But we will leave it the way it is and probably make further inquiry from the client or browse the internet to ascertain the high number of bedrooms in a house in Karachi city of Sindh Province."
   ]
  },
  {
   "cell_type": "code",
   "execution_count": 54,
   "metadata": {},
   "outputs": [
    {
     "data": {
      "application/javascript": [
       "window.require && require([\"base/js/namespace\"],function(Jupyter){Jupyter.notebook.save_checkpoint()})"
      ],
      "text/plain": [
       "<IPython.core.display.Javascript object>"
      ]
     },
     "metadata": {},
     "output_type": "display_data"
    },
    {
     "name": "stdout",
     "output_type": "stream",
     "text": [
      "[jovian] Updating notebook \"andrew-efomzy/eda-for-house-prices-in-pakistan-2023\" on https://jovian.com\u001b[0m\n",
      "[jovian] Committed successfully! https://jovian.com/andrew-efomzy/eda-for-house-prices-in-pakistan-2023\u001b[0m\n"
     ]
    },
    {
     "data": {
      "text/plain": [
       "'https://jovian.com/andrew-efomzy/eda-for-house-prices-in-pakistan-2023'"
      ]
     },
     "execution_count": 54,
     "metadata": {},
     "output_type": "execute_result"
    }
   ],
   "source": [
    "jovian.commit()"
   ]
  },
  {
   "cell_type": "markdown",
   "metadata": {},
   "source": [
    "### Bedrooms\n",
    "Next, lets explore the purpose for which the property is used. So to understand our dataset better."
   ]
  },
  {
   "cell_type": "code",
   "execution_count": 55,
   "metadata": {},
   "outputs": [
    {
     "data": {
      "text/plain": [
       "For Sale    106352\n",
       "For Rent     41605\n",
       "Name: purpose, dtype: int64"
      ]
     },
     "execution_count": 55,
     "metadata": {},
     "output_type": "execute_result"
    }
   ],
   "source": [
    "purpose_counts = house_df['purpose'].value_counts()\n",
    "purpose_counts\n"
   ]
  },
  {
   "cell_type": "markdown",
   "metadata": {},
   "source": [
    "A pie chart would be a great way to visualize the distribution.\n"
   ]
  },
  {
   "cell_type": "code",
   "execution_count": 56,
   "metadata": {},
   "outputs": [
    {
     "data": {
      "image/png": "[encoded data removed]",
      "text/plain": [
       "<Figure size 864x432 with 1 Axes>"
      ]
     },
     "metadata": {},
     "output_type": "display_data"
    }
   ],
   "source": [
    "plt.figure(figsize=(12,6))\n",
    "plt.title('Percentage of use of the properties')\n",
    "plt.pie(purpose_counts, labels=purpose_counts.index, autopct='%1.1f%%', startangle=180);"
   ]
  },
  {
   "cell_type": "markdown",
   "metadata": {},
   "source": [
    "It is clear a higher percentage (71.9%) of the properties in this dataset are for sale and only 28.1% is for rent. This is quite and interest point."
   ]
  },
  {
   "cell_type": "markdown",
   "metadata": {},
   "source": [
    "### Now, we will explore the columns for CITY and PROVINCE before going into asking questions and answers."
   ]
  },
  {
   "cell_type": "code",
   "execution_count": 57,
   "metadata": {},
   "outputs": [
    {
     "data": {
      "text/plain": [
       "Karachi       52099\n",
       "Lahore        37343\n",
       "Islamabad     33365\n",
       "Rawalpindi    18478\n",
       "Faisalabad     6672\n",
       "Name: city, dtype: int64"
      ]
     },
     "execution_count": 57,
     "metadata": {},
     "output_type": "execute_result"
    }
   ],
   "source": [
    "city_counts = house_df['city'].value_counts()\n",
    "city_counts"
   ]
  },
  {
   "cell_type": "code",
   "execution_count": 60,
   "metadata": {},
   "outputs": [
    {
     "data": {
      "image/png": "[encoded data removed]",
      "text/plain": [
       "<Figure size 1440x504 with 1 Axes>"
      ]
     },
     "metadata": {
      "needs_background": "light"
     },
     "output_type": "display_data"
    }
   ],
   "source": [
    "city_counts.plot.bar(xlabel = 'cities', ylabel = 'counts', title = ('number of properties in each city'));"
   ]
  },
  {
   "cell_type": "markdown",
   "metadata": {},
   "source": [
    "Karachi has the highest number of properties (above 50000)."
   ]
  },
  {
   "cell_type": "code",
   "execution_count": 61,
   "metadata": {},
   "outputs": [
    {
     "data": {
      "text/plain": [
       "Punjab               62493\n",
       "Sindh                52099\n",
       "Islamabad Capital    33365\n",
       "Name: province_name, dtype: int64"
      ]
     },
     "execution_count": 61,
     "metadata": {},
     "output_type": "execute_result"
    }
   ],
   "source": [
    "province_counts = house_df['province_name'].value_counts()\n",
    "province_counts"
   ]
  },
  {
   "cell_type": "code",
   "execution_count": 62,
   "metadata": {},
   "outputs": [
    {
     "data": {
      "image/png": "[encoded data removed]",
      "text/plain": [
       "<Figure size 864x432 with 1 Axes>"
      ]
     },
     "metadata": {},
     "output_type": "display_data"
    }
   ],
   "source": [
    "plt.figure(figsize=(12,6))\n",
    "plt.title('Percentage of properties in province')\n",
    "plt.pie(province_counts, labels=province_counts.index, autopct='%1.1f%%', startangle=180);"
   ]
  },
  {
   "cell_type": "markdown",
   "metadata": {},
   "source": [
    "The Punjab province has the highest percentage of properties (42.2%)"
   ]
  },
  {
   "cell_type": "code",
   "execution_count": 63,
   "metadata": {},
   "outputs": [
    {
     "data": {
      "text/html": [
       "<div>\n",
       "<style scoped>\n",
       "    .dataframe tbody tr th:only-of-type {\n",
       "        vertical-align: middle;\n",
       "    }\n",
       "\n",
       "    .dataframe tbody tr th {\n",
       "        vertical-align: top;\n",
       "    }\n",
       "\n",
       "    .dataframe thead th {\n",
       "        text-align: right;\n",
       "    }\n",
       "</style>\n",
       "<table border=\"1\" class=\"dataframe\">\n",
       "  <thead>\n",
       "    <tr style=\"text-align: right;\">\n",
       "      <th></th>\n",
       "      <th>property_type</th>\n",
       "      <th>price</th>\n",
       "      <th>location</th>\n",
       "      <th>city</th>\n",
       "      <th>province_name</th>\n",
       "      <th>latitude</th>\n",
       "      <th>longitude</th>\n",
       "      <th>baths</th>\n",
       "      <th>purpose</th>\n",
       "      <th>bedrooms</th>\n",
       "      <th>date_added</th>\n",
       "      <th>Area_size_Marla</th>\n",
       "    </tr>\n",
       "  </thead>\n",
       "  <tbody>\n",
       "    <tr>\n",
       "      <th>0</th>\n",
       "      <td>Flat</td>\n",
       "      <td>10000000</td>\n",
       "      <td>G-10</td>\n",
       "      <td>Islamabad</td>\n",
       "      <td>Islamabad Capital</td>\n",
       "      <td>33.679890</td>\n",
       "      <td>73.012640</td>\n",
       "      <td>2</td>\n",
       "      <td>For Sale</td>\n",
       "      <td>2</td>\n",
       "      <td>02-04-2019</td>\n",
       "      <td>4.0</td>\n",
       "    </tr>\n",
       "    <tr>\n",
       "      <th>1</th>\n",
       "      <td>Flat</td>\n",
       "      <td>6900000</td>\n",
       "      <td>E-11</td>\n",
       "      <td>Islamabad</td>\n",
       "      <td>Islamabad Capital</td>\n",
       "      <td>33.700993</td>\n",
       "      <td>72.971492</td>\n",
       "      <td>3</td>\n",
       "      <td>For Sale</td>\n",
       "      <td>3</td>\n",
       "      <td>05-04-2019</td>\n",
       "      <td>5.6</td>\n",
       "    </tr>\n",
       "    <tr>\n",
       "      <th>2</th>\n",
       "      <td>House</td>\n",
       "      <td>16500000</td>\n",
       "      <td>G-15</td>\n",
       "      <td>Islamabad</td>\n",
       "      <td>Islamabad Capital</td>\n",
       "      <td>33.631486</td>\n",
       "      <td>72.926559</td>\n",
       "      <td>6</td>\n",
       "      <td>For Sale</td>\n",
       "      <td>5</td>\n",
       "      <td>07-17-2019</td>\n",
       "      <td>8.0</td>\n",
       "    </tr>\n",
       "    <tr>\n",
       "      <th>3</th>\n",
       "      <td>House</td>\n",
       "      <td>43500000</td>\n",
       "      <td>Bani Gala</td>\n",
       "      <td>Islamabad</td>\n",
       "      <td>Islamabad Capital</td>\n",
       "      <td>33.707573</td>\n",
       "      <td>73.151199</td>\n",
       "      <td>4</td>\n",
       "      <td>For Sale</td>\n",
       "      <td>4</td>\n",
       "      <td>04-05-2019</td>\n",
       "      <td>40.0</td>\n",
       "    </tr>\n",
       "    <tr>\n",
       "      <th>4</th>\n",
       "      <td>House</td>\n",
       "      <td>7000000</td>\n",
       "      <td>DHA Defence</td>\n",
       "      <td>Islamabad</td>\n",
       "      <td>Islamabad Capital</td>\n",
       "      <td>33.492591</td>\n",
       "      <td>73.301339</td>\n",
       "      <td>3</td>\n",
       "      <td>For Sale</td>\n",
       "      <td>3</td>\n",
       "      <td>07-10-2019</td>\n",
       "      <td>8.0</td>\n",
       "    </tr>\n",
       "    <tr>\n",
       "      <th>...</th>\n",
       "      <td>...</td>\n",
       "      <td>...</td>\n",
       "      <td>...</td>\n",
       "      <td>...</td>\n",
       "      <td>...</td>\n",
       "      <td>...</td>\n",
       "      <td>...</td>\n",
       "      <td>...</td>\n",
       "      <td>...</td>\n",
       "      <td>...</td>\n",
       "      <td>...</td>\n",
       "      <td>...</td>\n",
       "    </tr>\n",
       "    <tr>\n",
       "      <th>168440</th>\n",
       "      <td>Flat</td>\n",
       "      <td>4800000</td>\n",
       "      <td>Gadap Town</td>\n",
       "      <td>Karachi</td>\n",
       "      <td>Sindh</td>\n",
       "      <td>25.022481</td>\n",
       "      <td>67.129082</td>\n",
       "      <td>0</td>\n",
       "      <td>For Sale</td>\n",
       "      <td>2</td>\n",
       "      <td>07-18-2019</td>\n",
       "      <td>3.8</td>\n",
       "    </tr>\n",
       "    <tr>\n",
       "      <th>168441</th>\n",
       "      <td>House</td>\n",
       "      <td>26500000</td>\n",
       "      <td>Gadap Town</td>\n",
       "      <td>Karachi</td>\n",
       "      <td>Sindh</td>\n",
       "      <td>25.029909</td>\n",
       "      <td>67.137192</td>\n",
       "      <td>0</td>\n",
       "      <td>For Sale</td>\n",
       "      <td>6</td>\n",
       "      <td>07-18-2019</td>\n",
       "      <td>9.6</td>\n",
       "    </tr>\n",
       "    <tr>\n",
       "      <th>168442</th>\n",
       "      <td>House</td>\n",
       "      <td>12500000</td>\n",
       "      <td>Gadap Town</td>\n",
       "      <td>Karachi</td>\n",
       "      <td>Sindh</td>\n",
       "      <td>25.017951</td>\n",
       "      <td>67.136393</td>\n",
       "      <td>0</td>\n",
       "      <td>For Sale</td>\n",
       "      <td>3</td>\n",
       "      <td>07-18-2019</td>\n",
       "      <td>8.0</td>\n",
       "    </tr>\n",
       "    <tr>\n",
       "      <th>168443</th>\n",
       "      <td>House</td>\n",
       "      <td>27000000</td>\n",
       "      <td>Gadap Town</td>\n",
       "      <td>Karachi</td>\n",
       "      <td>Sindh</td>\n",
       "      <td>25.015384</td>\n",
       "      <td>67.116330</td>\n",
       "      <td>0</td>\n",
       "      <td>For Sale</td>\n",
       "      <td>6</td>\n",
       "      <td>07-18-2019</td>\n",
       "      <td>9.6</td>\n",
       "    </tr>\n",
       "    <tr>\n",
       "      <th>168444</th>\n",
       "      <td>House</td>\n",
       "      <td>11000000</td>\n",
       "      <td>Gadap Town</td>\n",
       "      <td>Karachi</td>\n",
       "      <td>Sindh</td>\n",
       "      <td>25.013265</td>\n",
       "      <td>67.120818</td>\n",
       "      <td>0</td>\n",
       "      <td>For Sale</td>\n",
       "      <td>3</td>\n",
       "      <td>07-18-2019</td>\n",
       "      <td>7.8</td>\n",
       "    </tr>\n",
       "  </tbody>\n",
       "</table>\n",
       "<p>147957 rows × 12 columns</p>\n",
       "</div>"
      ],
      "text/plain": [
       "       property_type     price     location       city      province_name  \\\n",
       "0               Flat  10000000         G-10  Islamabad  Islamabad Capital   \n",
       "1               Flat   6900000         E-11  Islamabad  Islamabad Capital   \n",
       "2              House  16500000         G-15  Islamabad  Islamabad Capital   \n",
       "3              House  43500000    Bani Gala  Islamabad  Islamabad Capital   \n",
       "4              House   7000000  DHA Defence  Islamabad  Islamabad Capital   \n",
       "...              ...       ...          ...        ...                ...   \n",
       "168440          Flat   4800000   Gadap Town    Karachi              Sindh   \n",
       "168441         House  26500000   Gadap Town    Karachi              Sindh   \n",
       "168442         House  12500000   Gadap Town    Karachi              Sindh   \n",
       "168443         House  27000000   Gadap Town    Karachi              Sindh   \n",
       "168444         House  11000000   Gadap Town    Karachi              Sindh   \n",
       "\n",
       "         latitude  longitude  baths   purpose  bedrooms  date_added  \\\n",
       "0       33.679890  73.012640      2  For Sale         2  02-04-2019   \n",
       "1       33.700993  72.971492      3  For Sale         3  05-04-2019   \n",
       "2       33.631486  72.926559      6  For Sale         5  07-17-2019   \n",
       "3       33.707573  73.151199      4  For Sale         4  04-05-2019   \n",
       "4       33.492591  73.301339      3  For Sale         3  07-10-2019   \n",
       "...           ...        ...    ...       ...       ...         ...   \n",
       "168440  25.022481  67.129082      0  For Sale         2  07-18-2019   \n",
       "168441  25.029909  67.137192      0  For Sale         6  07-18-2019   \n",
       "168442  25.017951  67.136393      0  For Sale         3  07-18-2019   \n",
       "168443  25.015384  67.116330      0  For Sale         6  07-18-2019   \n",
       "168444  25.013265  67.120818      0  For Sale         3  07-18-2019   \n",
       "\n",
       "        Area_size_Marla  \n",
       "0                   4.0  \n",
       "1                   5.6  \n",
       "2                   8.0  \n",
       "3                  40.0  \n",
       "4                   8.0  \n",
       "...                 ...  \n",
       "168440              3.8  \n",
       "168441              9.6  \n",
       "168442              8.0  \n",
       "168443              9.6  \n",
       "168444              7.8  \n",
       "\n",
       "[147957 rows x 12 columns]"
      ]
     },
     "execution_count": 63,
     "metadata": {},
     "output_type": "execute_result"
    }
   ],
   "source": [
    "house_df"
   ]
  },
  {
   "cell_type": "code",
   "execution_count": 64,
   "metadata": {},
   "outputs": [
    {
     "data": {
      "application/javascript": [
       "window.require && require([\"base/js/namespace\"],function(Jupyter){Jupyter.notebook.save_checkpoint()})"
      ],
      "text/plain": [
       "<IPython.core.display.Javascript object>"
      ]
     },
     "metadata": {},
     "output_type": "display_data"
    },
    {
     "name": "stdout",
     "output_type": "stream",
     "text": [
      "[jovian] Updating notebook \"andrew-efomzy/eda-for-house-prices-in-pakistan-2023\" on https://jovian.com\u001b[0m\n",
      "[jovian] Committed successfully! https://jovian.com/andrew-efomzy/eda-for-house-prices-in-pakistan-2023\u001b[0m\n"
     ]
    },
    {
     "data": {
      "text/plain": [
       "'https://jovian.com/andrew-efomzy/eda-for-house-prices-in-pakistan-2023'"
      ]
     },
     "execution_count": 64,
     "metadata": {},
     "output_type": "execute_result"
    }
   ],
   "source": [
    "jovian.commit()"
   ]
  },
  {
   "cell_type": "markdown",
   "metadata": {},
   "source": [
    "## Asking and Answering Questions\n",
    "\n",
    "\n",
    "\n"
   ]
  },
  {
   "cell_type": "markdown",
   "metadata": {},
   "source": [
    "We've already gained several insights about the dataset considering the property types, city, price, number of baths and bedrooms as well the purpose for which the property is to be used. Let's ask some specific questions and try to answer them using data frame operations and visualizations.\n"
   ]
  },
  {
   "cell_type": "markdown",
   "metadata": {},
   "source": [
    "### Q1:  Which Province has the highest mean price value of properties?\n",
    "\n",
    "To answer this question, we will use the groupby method to create a Series named mean_price_by_province that shows the mean property price in each province in Pakistan, sorted from smallest to largest. Then we will draw a barchart to visualize our finding and then check online to confirm why that particular province has a high house price."
   ]
  },
  {
   "cell_type": "code",
   "execution_count": 65,
   "metadata": {},
   "outputs": [
    {
     "data": {
      "text/plain": [
       "province_name\n",
       "Islamabad Capital    1.414791e+07\n",
       "Punjab               1.903451e+07\n",
       "Sindh                2.072942e+07\n",
       "Name: price, dtype: float64"
      ]
     },
     "execution_count": 65,
     "metadata": {},
     "output_type": "execute_result"
    }
   ],
   "source": [
    "mean_price_by_province = house_df.groupby(\"province_name\")[\"price\"].mean().sort_values(ascending=True)\n",
    "mean_price_by_province"
   ]
  },
  {
   "cell_type": "markdown",
   "metadata": {},
   "source": [
    "We will use the mean_price_by_province to create a bar chart. We will label the x-axis as \"Province\" and the y-axis as \"Mean Price\", and give the chart the title \"Mean property Price by Province\". We will use pandas."
   ]
  },
  {
   "cell_type": "code",
   "execution_count": 66,
   "metadata": {},
   "outputs": [
    {
     "data": {
      "image/png": "[encoded data removed]",
      "text/plain": [
       "<Figure size 1440x504 with 1 Axes>"
      ]
     },
     "metadata": {
      "needs_background": "light"
     },
     "output_type": "display_data"
    }
   ],
   "source": [
    "mean_price_by_province.plot( kind=\"bar\", xlabel=\"province\", ylabel=\"Price\", title=\"Mean House Price by province\");"
   ]
  },
  {
   "cell_type": "markdown",
   "metadata": {},
   "source": [
    "Answer: \n",
    "\n",
    "Sindh Province has the highest mean price to buy properties. with an mean price of about 21 million to buy properties. Although Islamabad is the capital of Pakistan, one might easily guess that Islamabad should have the highest mean price. But the reverse is the case in this dataset because there are many determining variables."
   ]
  },
  {
   "cell_type": "markdown",
   "metadata": {},
   "source": [
    "### Q2:  Which city has the highest number of properties in the Punjab province of Pakistan\n",
    "\n",
    "To answer this, lets Create a DataFrame house_df_punjab that contains all the properties from house_df that are in the \"Punjab\" province."
   ]
  },
  {
   "cell_type": "code",
   "execution_count": 67,
   "metadata": {},
   "outputs": [
    {
     "data": {
      "text/html": [
       "<div>\n",
       "<style scoped>\n",
       "    .dataframe tbody tr th:only-of-type {\n",
       "        vertical-align: middle;\n",
       "    }\n",
       "\n",
       "    .dataframe tbody tr th {\n",
       "        vertical-align: top;\n",
       "    }\n",
       "\n",
       "    .dataframe thead th {\n",
       "        text-align: right;\n",
       "    }\n",
       "</style>\n",
       "<table border=\"1\" class=\"dataframe\">\n",
       "  <thead>\n",
       "    <tr style=\"text-align: right;\">\n",
       "      <th></th>\n",
       "      <th>property_type</th>\n",
       "      <th>price</th>\n",
       "      <th>location</th>\n",
       "      <th>city</th>\n",
       "      <th>province_name</th>\n",
       "      <th>latitude</th>\n",
       "      <th>longitude</th>\n",
       "      <th>baths</th>\n",
       "      <th>purpose</th>\n",
       "      <th>bedrooms</th>\n",
       "      <th>date_added</th>\n",
       "      <th>Area_size_Marla</th>\n",
       "    </tr>\n",
       "  </thead>\n",
       "  <tbody>\n",
       "    <tr>\n",
       "      <th>47</th>\n",
       "      <td>House</td>\n",
       "      <td>220000000</td>\n",
       "      <td>Model Town</td>\n",
       "      <td>Lahore</td>\n",
       "      <td>Punjab</td>\n",
       "      <td>31.483869</td>\n",
       "      <td>74.325686</td>\n",
       "      <td>0</td>\n",
       "      <td>For Sale</td>\n",
       "      <td>0</td>\n",
       "      <td>07-17-2019</td>\n",
       "      <td>120.0</td>\n",
       "    </tr>\n",
       "    <tr>\n",
       "      <th>48</th>\n",
       "      <td>House</td>\n",
       "      <td>40000000</td>\n",
       "      <td>Multan Road</td>\n",
       "      <td>Lahore</td>\n",
       "      <td>Punjab</td>\n",
       "      <td>31.431593</td>\n",
       "      <td>74.179980</td>\n",
       "      <td>5</td>\n",
       "      <td>For Sale</td>\n",
       "      <td>5</td>\n",
       "      <td>10-06-2018</td>\n",
       "      <td>20.0</td>\n",
       "    </tr>\n",
       "    <tr>\n",
       "      <th>49</th>\n",
       "      <td>House</td>\n",
       "      <td>9500000</td>\n",
       "      <td>Eden</td>\n",
       "      <td>Lahore</td>\n",
       "      <td>Punjab</td>\n",
       "      <td>31.499348</td>\n",
       "      <td>74.416959</td>\n",
       "      <td>0</td>\n",
       "      <td>For Sale</td>\n",
       "      <td>3</td>\n",
       "      <td>07-03-2019</td>\n",
       "      <td>9.0</td>\n",
       "    </tr>\n",
       "    <tr>\n",
       "      <th>50</th>\n",
       "      <td>House</td>\n",
       "      <td>125000000</td>\n",
       "      <td>Gulberg</td>\n",
       "      <td>Lahore</td>\n",
       "      <td>Punjab</td>\n",
       "      <td>31.522069</td>\n",
       "      <td>74.355512</td>\n",
       "      <td>7</td>\n",
       "      <td>For Sale</td>\n",
       "      <td>8</td>\n",
       "      <td>04-04-2019</td>\n",
       "      <td>20.0</td>\n",
       "    </tr>\n",
       "    <tr>\n",
       "      <th>51</th>\n",
       "      <td>House</td>\n",
       "      <td>21000000</td>\n",
       "      <td>Allama Iqbal Town</td>\n",
       "      <td>Lahore</td>\n",
       "      <td>Punjab</td>\n",
       "      <td>31.506483</td>\n",
       "      <td>74.286017</td>\n",
       "      <td>5</td>\n",
       "      <td>For Sale</td>\n",
       "      <td>6</td>\n",
       "      <td>04-04-2019</td>\n",
       "      <td>11.0</td>\n",
       "    </tr>\n",
       "  </tbody>\n",
       "</table>\n",
       "</div>"
      ],
      "text/plain": [
       "   property_type      price           location    city province_name  \\\n",
       "47         House  220000000         Model Town  Lahore        Punjab   \n",
       "48         House   40000000        Multan Road  Lahore        Punjab   \n",
       "49         House    9500000               Eden  Lahore        Punjab   \n",
       "50         House  125000000            Gulberg  Lahore        Punjab   \n",
       "51         House   21000000  Allama Iqbal Town  Lahore        Punjab   \n",
       "\n",
       "     latitude  longitude  baths   purpose  bedrooms  date_added  \\\n",
       "47  31.483869  74.325686      0  For Sale         0  07-17-2019   \n",
       "48  31.431593  74.179980      5  For Sale         5  10-06-2018   \n",
       "49  31.499348  74.416959      0  For Sale         3  07-03-2019   \n",
       "50  31.522069  74.355512      7  For Sale         8  04-04-2019   \n",
       "51  31.506483  74.286017      5  For Sale         6  04-04-2019   \n",
       "\n",
       "    Area_size_Marla  \n",
       "47            120.0  \n",
       "48             20.0  \n",
       "49              9.0  \n",
       "50             20.0  \n",
       "51             11.0  "
      ]
     },
     "execution_count": 67,
     "metadata": {},
     "output_type": "execute_result"
    }
   ],
   "source": [
    "house_df_punjab = house_df[house_df[\"province_name\"]==\"Punjab\"]\n",
    "house_df_punjab.head(5)"
   ]
  },
  {
   "cell_type": "code",
   "execution_count": 68,
   "metadata": {},
   "outputs": [
    {
     "data": {
      "text/plain": [
       "Lahore        37343\n",
       "Rawalpindi    18478\n",
       "Faisalabad     6672\n",
       "Name: city, dtype: int64"
      ]
     },
     "execution_count": 68,
     "metadata": {},
     "output_type": "execute_result"
    }
   ],
   "source": [
    "properties_by_city = house_df_punjab[\"city\"].value_counts()\n",
    "properties_by_city"
   ]
  },
  {
   "cell_type": "markdown",
   "metadata": {},
   "source": [
    "Now lets create a bar chart using the state index as x-axis and using the state as y-axis in order to know the city with the highest number of properties."
   ]
  },
  {
   "cell_type": "code",
   "execution_count": 69,
   "metadata": {},
   "outputs": [
    {
     "data": {
      "image/png": "[encoded data removed]",
      "text/plain": [
       "<Figure size 864x432 with 1 Axes>"
      ]
     },
     "metadata": {
      "needs_background": "light"
     },
     "output_type": "display_data"
    }
   ],
   "source": [
    "plt.figure(figsize=(12,6))\n",
    "plt.xticks(rotation=75)\n",
    "plt.title('number of properties per city in Punjab')\n",
    "sns.barplot(x=properties_by_city.index, y=properties_by_city);"
   ]
  },
  {
   "cell_type": "markdown",
   "metadata": {},
   "source": [
    "Answer:\n",
    "\n",
    "Lahore has the highest number of properties in Punjab, which might also make it to have the highest mean price. In another chart, we will explore the city with the highest mean price. Faisalabad has the least number of properties."
   ]
  },
  {
   "cell_type": "code",
   "execution_count": 70,
   "metadata": {},
   "outputs": [
    {
     "data": {
      "application/javascript": [
       "window.require && require([\"base/js/namespace\"],function(Jupyter){Jupyter.notebook.save_checkpoint()})"
      ],
      "text/plain": [
       "<IPython.core.display.Javascript object>"
      ]
     },
     "metadata": {},
     "output_type": "display_data"
    },
    {
     "name": "stdout",
     "output_type": "stream",
     "text": [
      "[jovian] Updating notebook \"andrew-efomzy/eda-for-house-prices-in-pakistan-2023\" on https://jovian.com\u001b[0m\n",
      "[jovian] Committed successfully! https://jovian.com/andrew-efomzy/eda-for-house-prices-in-pakistan-2023\u001b[0m\n"
     ]
    },
    {
     "data": {
      "text/plain": [
       "'https://jovian.com/andrew-efomzy/eda-for-house-prices-in-pakistan-2023'"
      ]
     },
     "execution_count": 70,
     "metadata": {},
     "output_type": "execute_result"
    }
   ],
   "source": [
    "jovian.commit()"
   ]
  },
  {
   "cell_type": "markdown",
   "metadata": {},
   "source": [
    "### Q3:  What is the relationship between Area_size and price in the Lahore city of the Punjab Province\n",
    "\n",
    "To answer this question, we will create a scatter plot showing price vs. area for the city of Lahore. We will label the x-axis \"Area [Marla]\" and the y-axis \"Price\"; and use the title \": Price vs. Area\". We will use Matplotlib (plt)."
   ]
  },
  {
   "cell_type": "code",
   "execution_count": 71,
   "metadata": {},
   "outputs": [
    {
     "data": {
      "text/html": [
       "<div>\n",
       "<style scoped>\n",
       "    .dataframe tbody tr th:only-of-type {\n",
       "        vertical-align: middle;\n",
       "    }\n",
       "\n",
       "    .dataframe tbody tr th {\n",
       "        vertical-align: top;\n",
       "    }\n",
       "\n",
       "    .dataframe thead th {\n",
       "        text-align: right;\n",
       "    }\n",
       "</style>\n",
       "<table border=\"1\" class=\"dataframe\">\n",
       "  <thead>\n",
       "    <tr style=\"text-align: right;\">\n",
       "      <th></th>\n",
       "      <th>property_type</th>\n",
       "      <th>price</th>\n",
       "      <th>location</th>\n",
       "      <th>city</th>\n",
       "      <th>province_name</th>\n",
       "      <th>latitude</th>\n",
       "      <th>longitude</th>\n",
       "      <th>baths</th>\n",
       "      <th>purpose</th>\n",
       "      <th>bedrooms</th>\n",
       "      <th>date_added</th>\n",
       "      <th>Area_size_Marla</th>\n",
       "    </tr>\n",
       "  </thead>\n",
       "  <tbody>\n",
       "    <tr>\n",
       "      <th>47</th>\n",
       "      <td>House</td>\n",
       "      <td>220000000</td>\n",
       "      <td>Model Town</td>\n",
       "      <td>Lahore</td>\n",
       "      <td>Punjab</td>\n",
       "      <td>31.483869</td>\n",
       "      <td>74.325686</td>\n",
       "      <td>0</td>\n",
       "      <td>For Sale</td>\n",
       "      <td>0</td>\n",
       "      <td>07-17-2019</td>\n",
       "      <td>120.0</td>\n",
       "    </tr>\n",
       "    <tr>\n",
       "      <th>48</th>\n",
       "      <td>House</td>\n",
       "      <td>40000000</td>\n",
       "      <td>Multan Road</td>\n",
       "      <td>Lahore</td>\n",
       "      <td>Punjab</td>\n",
       "      <td>31.431593</td>\n",
       "      <td>74.179980</td>\n",
       "      <td>5</td>\n",
       "      <td>For Sale</td>\n",
       "      <td>5</td>\n",
       "      <td>10-06-2018</td>\n",
       "      <td>20.0</td>\n",
       "    </tr>\n",
       "    <tr>\n",
       "      <th>49</th>\n",
       "      <td>House</td>\n",
       "      <td>9500000</td>\n",
       "      <td>Eden</td>\n",
       "      <td>Lahore</td>\n",
       "      <td>Punjab</td>\n",
       "      <td>31.499348</td>\n",
       "      <td>74.416959</td>\n",
       "      <td>0</td>\n",
       "      <td>For Sale</td>\n",
       "      <td>3</td>\n",
       "      <td>07-03-2019</td>\n",
       "      <td>9.0</td>\n",
       "    </tr>\n",
       "    <tr>\n",
       "      <th>50</th>\n",
       "      <td>House</td>\n",
       "      <td>125000000</td>\n",
       "      <td>Gulberg</td>\n",
       "      <td>Lahore</td>\n",
       "      <td>Punjab</td>\n",
       "      <td>31.522069</td>\n",
       "      <td>74.355512</td>\n",
       "      <td>7</td>\n",
       "      <td>For Sale</td>\n",
       "      <td>8</td>\n",
       "      <td>04-04-2019</td>\n",
       "      <td>20.0</td>\n",
       "    </tr>\n",
       "    <tr>\n",
       "      <th>51</th>\n",
       "      <td>House</td>\n",
       "      <td>21000000</td>\n",
       "      <td>Allama Iqbal Town</td>\n",
       "      <td>Lahore</td>\n",
       "      <td>Punjab</td>\n",
       "      <td>31.506483</td>\n",
       "      <td>74.286017</td>\n",
       "      <td>5</td>\n",
       "      <td>For Sale</td>\n",
       "      <td>6</td>\n",
       "      <td>04-04-2019</td>\n",
       "      <td>11.0</td>\n",
       "    </tr>\n",
       "    <tr>\n",
       "      <th>...</th>\n",
       "      <td>...</td>\n",
       "      <td>...</td>\n",
       "      <td>...</td>\n",
       "      <td>...</td>\n",
       "      <td>...</td>\n",
       "      <td>...</td>\n",
       "      <td>...</td>\n",
       "      <td>...</td>\n",
       "      <td>...</td>\n",
       "      <td>...</td>\n",
       "      <td>...</td>\n",
       "      <td>...</td>\n",
       "    </tr>\n",
       "    <tr>\n",
       "      <th>168426</th>\n",
       "      <td>House</td>\n",
       "      <td>44000000</td>\n",
       "      <td>DHA Defence</td>\n",
       "      <td>Lahore</td>\n",
       "      <td>Punjab</td>\n",
       "      <td>31.486906</td>\n",
       "      <td>74.385896</td>\n",
       "      <td>7</td>\n",
       "      <td>For Sale</td>\n",
       "      <td>6</td>\n",
       "      <td>07-18-2019</td>\n",
       "      <td>20.0</td>\n",
       "    </tr>\n",
       "    <tr>\n",
       "      <th>168427</th>\n",
       "      <td>House</td>\n",
       "      <td>55000000</td>\n",
       "      <td>DHA Defence</td>\n",
       "      <td>Lahore</td>\n",
       "      <td>Punjab</td>\n",
       "      <td>31.466227</td>\n",
       "      <td>74.440012</td>\n",
       "      <td>6</td>\n",
       "      <td>For Sale</td>\n",
       "      <td>5</td>\n",
       "      <td>07-18-2019</td>\n",
       "      <td>20.0</td>\n",
       "    </tr>\n",
       "    <tr>\n",
       "      <th>168428</th>\n",
       "      <td>House</td>\n",
       "      <td>20500000</td>\n",
       "      <td>DHA Defence</td>\n",
       "      <td>Lahore</td>\n",
       "      <td>Punjab</td>\n",
       "      <td>31.494408</td>\n",
       "      <td>74.437666</td>\n",
       "      <td>4</td>\n",
       "      <td>For Sale</td>\n",
       "      <td>3</td>\n",
       "      <td>07-18-2019</td>\n",
       "      <td>10.0</td>\n",
       "    </tr>\n",
       "    <tr>\n",
       "      <th>168429</th>\n",
       "      <td>House</td>\n",
       "      <td>170000000</td>\n",
       "      <td>DHA Defence</td>\n",
       "      <td>Lahore</td>\n",
       "      <td>Punjab</td>\n",
       "      <td>31.475378</td>\n",
       "      <td>74.373808</td>\n",
       "      <td>5</td>\n",
       "      <td>For Sale</td>\n",
       "      <td>5</td>\n",
       "      <td>07-18-2019</td>\n",
       "      <td>40.0</td>\n",
       "    </tr>\n",
       "    <tr>\n",
       "      <th>168430</th>\n",
       "      <td>House</td>\n",
       "      <td>42500000</td>\n",
       "      <td>DHA Defence</td>\n",
       "      <td>Lahore</td>\n",
       "      <td>Punjab</td>\n",
       "      <td>31.471571</td>\n",
       "      <td>74.445906</td>\n",
       "      <td>6</td>\n",
       "      <td>For Sale</td>\n",
       "      <td>5</td>\n",
       "      <td>07-18-2019</td>\n",
       "      <td>20.0</td>\n",
       "    </tr>\n",
       "  </tbody>\n",
       "</table>\n",
       "<p>37343 rows × 12 columns</p>\n",
       "</div>"
      ],
      "text/plain": [
       "       property_type      price           location    city province_name  \\\n",
       "47             House  220000000         Model Town  Lahore        Punjab   \n",
       "48             House   40000000        Multan Road  Lahore        Punjab   \n",
       "49             House    9500000               Eden  Lahore        Punjab   \n",
       "50             House  125000000            Gulberg  Lahore        Punjab   \n",
       "51             House   21000000  Allama Iqbal Town  Lahore        Punjab   \n",
       "...              ...        ...                ...     ...           ...   \n",
       "168426         House   44000000        DHA Defence  Lahore        Punjab   \n",
       "168427         House   55000000        DHA Defence  Lahore        Punjab   \n",
       "168428         House   20500000        DHA Defence  Lahore        Punjab   \n",
       "168429         House  170000000        DHA Defence  Lahore        Punjab   \n",
       "168430         House   42500000        DHA Defence  Lahore        Punjab   \n",
       "\n",
       "         latitude  longitude  baths   purpose  bedrooms  date_added  \\\n",
       "47      31.483869  74.325686      0  For Sale         0  07-17-2019   \n",
       "48      31.431593  74.179980      5  For Sale         5  10-06-2018   \n",
       "49      31.499348  74.416959      0  For Sale         3  07-03-2019   \n",
       "50      31.522069  74.355512      7  For Sale         8  04-04-2019   \n",
       "51      31.506483  74.286017      5  For Sale         6  04-04-2019   \n",
       "...           ...        ...    ...       ...       ...         ...   \n",
       "168426  31.486906  74.385896      7  For Sale         6  07-18-2019   \n",
       "168427  31.466227  74.440012      6  For Sale         5  07-18-2019   \n",
       "168428  31.494408  74.437666      4  For Sale         3  07-18-2019   \n",
       "168429  31.475378  74.373808      5  For Sale         5  07-18-2019   \n",
       "168430  31.471571  74.445906      6  For Sale         5  07-18-2019   \n",
       "\n",
       "        Area_size_Marla  \n",
       "47                120.0  \n",
       "48                 20.0  \n",
       "49                  9.0  \n",
       "50                 20.0  \n",
       "51                 11.0  \n",
       "...                 ...  \n",
       "168426             20.0  \n",
       "168427             20.0  \n",
       "168428             10.0  \n",
       "168429             40.0  \n",
       "168430             20.0  \n",
       "\n",
       "[37343 rows x 12 columns]"
      ]
     },
     "execution_count": 71,
     "metadata": {},
     "output_type": "execute_result"
    }
   ],
   "source": [
    "# Subset data\n",
    "house_df_punjab_lahore =house_df[house_df[\"city\"]==\"Lahore\"]\n",
    "house_df_punjab_lahore"
   ]
  },
  {
   "cell_type": "code",
   "execution_count": 72,
   "metadata": {},
   "outputs": [
    {
     "data": {
      "image/png": "[encoded data removed]",
      "text/plain": [
       "<Figure size 1440x504 with 1 Axes>"
      ]
     },
     "metadata": {
      "needs_background": "light"
     },
     "output_type": "display_data"
    }
   ],
   "source": [
    "# Build scatter plot\n",
    "plt.scatter(x=house_df_punjab_lahore[\"Area_size_Marla\"], y=house_df_punjab_lahore[\"price\"])\n",
    "plt.xlabel(\"Area[Marla]\")\n",
    "plt.ylabel(\"Price\")\n",
    "plt.title(\"Lahore: Price vs. Area\");"
   ]
  },
  {
   "cell_type": "markdown",
   "metadata": {},
   "source": [
    "The realtionship between Area and Price is not very clear. However, we can see that most of the data are concentrated between 0 and 200 marla where price increases as area increases upto 100 Marla. However, the correlation between price and area is not very clear."
   ]
  },
  {
   "cell_type": "code",
   "execution_count": 73,
   "metadata": {},
   "outputs": [
    {
     "data": {
      "application/javascript": [
       "window.require && require([\"base/js/namespace\"],function(Jupyter){Jupyter.notebook.save_checkpoint()})"
      ],
      "text/plain": [
       "<IPython.core.display.Javascript object>"
      ]
     },
     "metadata": {},
     "output_type": "display_data"
    },
    {
     "name": "stdout",
     "output_type": "stream",
     "text": [
      "[jovian] Updating notebook \"andrew-efomzy/eda-for-house-prices-in-pakistan-2023\" on https://jovian.com\u001b[0m\n",
      "[jovian] Committed successfully! https://jovian.com/andrew-efomzy/eda-for-house-prices-in-pakistan-2023\u001b[0m\n"
     ]
    },
    {
     "data": {
      "text/plain": [
       "'https://jovian.com/andrew-efomzy/eda-for-house-prices-in-pakistan-2023'"
      ]
     },
     "execution_count": 73,
     "metadata": {},
     "output_type": "execute_result"
    }
   ],
   "source": [
    "jovian.commit()"
   ]
  },
  {
   "cell_type": "markdown",
   "metadata": {},
   "source": [
    "### Q4: Which city is more expensive to buy or rent a property?\n",
    "\n",
    "To answer this question, we will use the groupby method to create a Series named mean_price_by_city that shows the mean property price in each city in Pakistan, sorted from smallest to largest. Then we will draw a barchart to visualize our finding and then check online to confirm why that particular province has a high house price."
   ]
  },
  {
   "cell_type": "code",
   "execution_count": 74,
   "metadata": {},
   "outputs": [
    {
     "data": {
      "text/plain": [
       "city\n",
       "Faisalabad    8.229373e+06\n",
       "Rawalpindi    9.152591e+06\n",
       "Islamabad     1.414791e+07\n",
       "Karachi       2.072942e+07\n",
       "Lahore        2.585480e+07\n",
       "Name: price, dtype: float64"
      ]
     },
     "execution_count": 74,
     "metadata": {},
     "output_type": "execute_result"
    }
   ],
   "source": [
    "mean_price_by_city = house_df.groupby(\"city\")[\"price\"].mean().sort_values(ascending=True)\n",
    "mean_price_by_city"
   ]
  },
  {
   "cell_type": "markdown",
   "metadata": {},
   "source": [
    "Now, lets use the mean_price_by_city to create a bar chart."
   ]
  },
  {
   "cell_type": "code",
   "execution_count": 75,
   "metadata": {},
   "outputs": [
    {
     "data": {
      "image/png": "[encoded data removed]",
      "text/plain": [
       "<Figure size 864x432 with 1 Axes>"
      ]
     },
     "metadata": {
      "needs_background": "light"
     },
     "output_type": "display_data"
    }
   ],
   "source": [
    "plt.figure(figsize=(12,6))\n",
    "plt.xticks(rotation=75)\n",
    "plt.title('Mean House Price by city')\n",
    "sns.barplot(x=mean_price_by_city, y=mean_price_by_city.index);"
   ]
  },
  {
   "cell_type": "markdown",
   "metadata": {},
   "source": [
    "Answer:\n",
    "\n",
    "Lahore is the most expensive city to get a property. You will need above 25 million to get a property in Lahore. \n",
    "\n",
    "This site https://sigmaproperties.com.pk/most-expensive-area-in-pakistan/  proves that Lahore is Pakistan’s largest city as well as Pakistan’s wealthiest cities with an approximate GDP of $84 billion in 2019. The Walled City, the prominent Badshahi and Wazir Khan Mosques, as well as several Sikh and Sufi shrines, are all located in the city, which generates a large portion of Pakistan’s tourism business.\n",
    "Our visualization revealed that Karachi is the second most expensive city to get a propert.While Rawalpindi and Faisalabad are the least respectively."
   ]
  },
  {
   "cell_type": "markdown",
   "metadata": {},
   "source": [
    "### Q5: Which property is more expensive to buy/rent?"
   ]
  },
  {
   "cell_type": "code",
   "execution_count": 76,
   "metadata": {},
   "outputs": [
    {
     "data": {
      "text/plain": [
       "property_type\n",
       "Room             4.670446e+05\n",
       "Lower Portion    1.476262e+06\n",
       "Upper Portion    2.184854e+06\n",
       "Flat             8.406271e+06\n",
       "Penthouse        1.710077e+07\n",
       "House            2.556559e+07\n",
       "Farm House       6.153839e+07\n",
       "Name: price, dtype: float64"
      ]
     },
     "execution_count": 76,
     "metadata": {},
     "output_type": "execute_result"
    }
   ],
   "source": [
    "mean_price_by_property = house_df.groupby(\"property_type\")[\"price\"].mean().sort_values(ascending=True)\n",
    "mean_price_by_property"
   ]
  },
  {
   "cell_type": "code",
   "execution_count": 77,
   "metadata": {},
   "outputs": [
    {
     "data": {
      "image/png": "[encoded data removed]",
      "text/plain": [
       "<Figure size 1440x504 with 1 Axes>"
      ]
     },
     "metadata": {
      "needs_background": "light"
     },
     "output_type": "display_data"
    }
   ],
   "source": [
    "mean_price_by_property.plot( kind=\"barh\", xlabel=\"price\", ylabel=\"Property\", title=\"Mean House Price by property\");"
   ]
  },
  {
   "cell_type": "markdown",
   "metadata": {},
   "source": [
    "Answer:\n",
    "\n",
    "Farm Houses are the most expensive property to get in Pakistan with a mean price of about 61 million.\n",
    "Its really intersting to know that the mean proce of House is less expensive than Farm houses. Getting a room is the least expensive with about 470,000 PKR."
   ]
  },
  {
   "cell_type": "code",
   "execution_count": 78,
   "metadata": {},
   "outputs": [
    {
     "data": {
      "application/javascript": [
       "window.require && require([\"base/js/namespace\"],function(Jupyter){Jupyter.notebook.save_checkpoint()})"
      ],
      "text/plain": [
       "<IPython.core.display.Javascript object>"
      ]
     },
     "metadata": {},
     "output_type": "display_data"
    },
    {
     "name": "stdout",
     "output_type": "stream",
     "text": [
      "[jovian] Updating notebook \"andrew-efomzy/eda-for-house-prices-in-pakistan-2023\" on https://jovian.com\u001b[0m\n",
      "[jovian] Committed successfully! https://jovian.com/andrew-efomzy/eda-for-house-prices-in-pakistan-2023\u001b[0m\n"
     ]
    },
    {
     "data": {
      "text/plain": [
       "'https://jovian.com/andrew-efomzy/eda-for-house-prices-in-pakistan-2023'"
      ]
     },
     "execution_count": 78,
     "metadata": {},
     "output_type": "execute_result"
    }
   ],
   "source": [
    "jovian.commit()"
   ]
  },
  {
   "cell_type": "markdown",
   "metadata": {},
   "source": [
    "# Inferences and Conclusions\n",
    "\n",
    "We've drawn many inferences from thIS Dataset. Here's a summary of a few of them:\n",
    "\n",
    "1. Sindh Province has the highest mean price to buy properties. with an mean price of about 21 million to buy properties. Although Islamabad is the capital of Pakistan, one might easily guess that Islamabad should have the highest mean price. But the reverse is the case in this dataset because there are many determining variables.\n",
    "\n",
    "\n",
    "2. Lahore has the highest number of properties in Punjab, which might also make it to have the highest mean price. We did further analysis in order to explore the city with the highest mean price. Faisalabad has the least number of properties.\n",
    "\n",
    "\n",
    "3. Lahore is the most expensive city to get a property. You will need above 25 million to get a property in Lahore. This site https://sigmaproperties.com.pk/most-expensive-area-in-pakistan/ proves that Lahore is Pakistan’s largest city as well as Pakistan’s wealthiest cities with an approximate GDP of $84 billion in 2019. The Walled City, the prominent Badshahi and Wazir Khan Mosques, as well as several Sikh and Sufi shrines, are all located in the city, which generates a large portion of Pakistan’s tourism business. Our visualization revealed that Karachi is the second most expensive city to get a propert.While Rawalpindi and Faisalabad are the least respectively.\n",
    "\n",
    "\n",
    "4. Farm Houses are the most expensive property to get in Pakistan with a mean price of about 61 million.\n",
    "Its really intersting to know that the mean proce of House is less expensive than Farm houses. Getting a room is the least expensive with about 470,000 PKR."
   ]
  },
  {
   "cell_type": "code",
   "execution_count": 79,
   "metadata": {},
   "outputs": [],
   "source": [
    "import jovian"
   ]
  },
  {
   "cell_type": "code",
   "execution_count": 80,
   "metadata": {},
   "outputs": [
    {
     "data": {
      "application/javascript": [
       "window.require && require([\"base/js/namespace\"],function(Jupyter){Jupyter.notebook.save_checkpoint()})"
      ],
      "text/plain": [
       "<IPython.core.display.Javascript object>"
      ]
     },
     "metadata": {},
     "output_type": "display_data"
    },
    {
     "name": "stdout",
     "output_type": "stream",
     "text": [
      "[jovian] Updating notebook \"andrew-efomzy/eda-for-house-prices-in-pakistan-2023\" on https://jovian.com\u001b[0m\n",
      "[jovian] Committed successfully! https://jovian.com/andrew-efomzy/eda-for-house-prices-in-pakistan-2023\u001b[0m\n"
     ]
    },
    {
     "data": {
      "text/plain": [
       "'https://jovian.com/andrew-efomzy/eda-for-house-prices-in-pakistan-2023'"
      ]
     },
     "execution_count": 80,
     "metadata": {},
     "output_type": "execute_result"
    }
   ],
   "source": [
    "jovian.commit()"
   ]
  },
  {
   "cell_type": "markdown",
   "metadata": {},
   "source": [
    "## References and Future Work\n",
    "\n",
    "\n",
    "Check out the following resources to learn more about the dataset and tools used in this notebook:\n",
    "\n",
    "- Kaggle House (Pakistan) Prices 2023 Dataset: https://www.kaggle.com/datasets/howisusmanali/house-prices-2023-dataset?select=House_Price_dataset.csv.\n",
    "\n",
    "\n",
    "- Pandas user guide: https://pandas.pydata.org/docs/user_guide/index.html\n",
    "\n",
    "\n",
    "- Matplotlib user guide: https://matplotlib.org/3.3.1/users/index.html\n",
    "\n",
    "\n",
    "- Seaborn user guide & tutorial: https://seaborn.pydata.org/tutorial.html\n",
    "\n",
    "\n",
    "- opendatasets Python library: https://github.com/JovianML/opendatasets\n",
    "\n",
    "\n",
    "- Most Expensive Residential Area in Pakistan: https://sigmaproperties.com.pk/most-expensive-area-in-pakistan/\n",
    "\n",
    "\n",
    "\n",
    "In the future, I will like to use Machine Learning models to predict house prices in Pakistan. As well as explore the effect of the number of baths and bedrooms as critical variables. I find this site https://sigmaproperties.com.pk/most-expensive-area-in-pakistan/ very helpful."
   ]
  },
  {
   "cell_type": "code",
   "execution_count": 81,
   "metadata": {},
   "outputs": [],
   "source": [
    "import jovian"
   ]
  },
  {
   "cell_type": "code",
   "execution_count": 82,
   "metadata": {
    "scrolled": true
   },
   "outputs": [
    {
     "data": {
      "application/javascript": [
       "window.require && require([\"base/js/namespace\"],function(Jupyter){Jupyter.notebook.save_checkpoint()})"
      ],
      "text/plain": [
       "<IPython.core.display.Javascript object>"
      ]
     },
     "metadata": {},
     "output_type": "display_data"
    },
    {
     "name": "stdout",
     "output_type": "stream",
     "text": [
      "[jovian] Updating notebook \"andrew-efomzy/eda-for-house-prices-in-pakistan-2023\" on https://jovian.com\u001b[0m\n",
      "[jovian] Committed successfully! https://jovian.com/andrew-efomzy/eda-for-house-prices-in-pakistan-2023\u001b[0m\n"
     ]
    },
    {
     "data": {
      "text/plain": [
       "'https://jovian.com/andrew-efomzy/eda-for-house-prices-in-pakistan-2023'"
      ]
     },
     "execution_count": 82,
     "metadata": {},
     "output_type": "execute_result"
    }
   ],
   "source": [
    "jovian.commit()"
   ]
  },
  {
   "cell_type": "code",
   "execution_count": 83,
   "metadata": {},
   "outputs": [
    {
     "data": {
      "application/javascript": [
       "window.require && require([\"base/js/namespace\"],function(Jupyter){Jupyter.notebook.save_checkpoint()})"
      ],
      "text/plain": [
       "<IPython.core.display.Javascript object>"
      ]
     },
     "metadata": {},
     "output_type": "display_data"
    },
    {
     "name": "stdout",
     "output_type": "stream",
     "text": [
      "[jovian] Updating notebook \"andrew-efomzy/eda-for-house-prices-in-pakistan-2023\" on https://jovian.com\u001b[0m\n",
      "[jovian] Committed successfully! https://jovian.com/andrew-efomzy/eda-for-house-prices-in-pakistan-2023\u001b[0m\n"
     ]
    },
    {
     "data": {
      "text/plain": [
       "'https://jovian.com/andrew-efomzy/eda-for-house-prices-in-pakistan-2023'"
      ]
     },
     "execution_count": 83,
     "metadata": {},
     "output_type": "execute_result"
    }
   ],
   "source": [
    "jovian.commit()"
   ]
  },
  {
   "cell_type": "code",
   "execution_count": null,
   "metadata": {},
   "outputs": [],
   "source": []
  },
  {
   "cell_type": "code",
   "execution_count": null,
   "metadata": {},
   "outputs": [],
   "source": []
  },
  {
   "cell_type": "code",
   "execution_count": null,
   "metadata": {},
   "outputs": [],
   "source": []
  },
  {
   "cell_type": "code",
   "execution_count": null,
   "metadata": {},
   "outputs": [],
   "source": []
  }
 ],
 "metadata": {
  "kernelspec": {
   "display_name": "Python 3 (ipykernel)",
   "language": "python",
   "name": "python3"
  },
  "language_info": {
   "codemirror_mode": {
    "name": "ipython",
    "version": 3
   },
   "file_extension": ".py",
   "mimetype": "text/x-python",
   "name": "python",
   "nbconvert_exporter": "python",
   "pygments_lexer": "ipython3",
   "version": "3.9.7"
  }
 },
 "nbformat": 4,
 "nbformat_minor": 4
}
